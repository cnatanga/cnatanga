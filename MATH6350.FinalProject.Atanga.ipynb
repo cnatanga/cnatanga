{
 "cells": [
  {
   "cell_type": "markdown",
   "metadata": {},
   "source": [
    "# MATH 6350\n",
    "# FINAL PROJECT\n",
    "# Cynthia Atanga\n",
    "# 1319791"
   ]
  },
  {
   "cell_type": "code",
   "execution_count": 1,
   "metadata": {},
   "outputs": [],
   "source": [
    "import pandas as pd\n",
    "import numpy as np\n",
    "import matplotlib.pyplot as plt\n"
   ]
  },
  {
   "cell_type": "code",
   "execution_count": 2,
   "metadata": {},
   "outputs": [
    {
     "data": {
      "text/html": [
       "<script>\n",
       "code_show=true;\n",
       "function code_toggle() {\n",
       "if (code_show){\n",
       "\n",
       "$('div.input').hide();\n",
       "} else {\n",
       "$('div.input').show();\n",
       "}\n",
       "code_show = !code_show\n",
       "}\n",
       "$( document ).ready(code_toggle);\n",
       "</script>\n",
       "<form action=\"javascript:code_toggle()\"><input type=\"submit\" value=\"Click here to toggle on/off the\n",
       "raw code.\"></form>"
      ],
      "text/plain": [
       "<IPython.core.display.HTML object>"
      ]
     },
     "execution_count": 2,
     "metadata": {},
     "output_type": "execute_result"
    }
   ],
   "source": [
    "from IPython.display import HTML\n",
    "HTML('''<script>\n",
    "code_show=true;\n",
    "function code_toggle() {\n",
    "if (code_show){\n",
    "\n",
    "$('div.input').hide();\n",
    "} else {\n",
    "$('div.input').show();\n",
    "}\n",
    "code_show = !code_show\n",
    "}\n",
    "$( document ).ready(code_toggle);\n",
    "</script>\n",
    "<form action=\"javascript:code_toggle()\"><input type=\"submit\" value=\"Click here to toggle on/off the\n",
    "raw code.\"></form>''')"
   ]
  },
  {
   "cell_type": "markdown",
   "metadata": {},
   "source": [
    "# Question 1 : Download a real data set DS "
   ]
  },
  {
   "cell_type": "markdown",
   "metadata": {},
   "source": [
    "Description of data set:\n",
    "\n",
    "This data set comprises of the at-close stock prices of 10 companies in the oil and gas industry over the past 5 years (from Dec 3,2014 to Dec 2, 2019). These are our explanatory variables. An artificial column of 1's (Dummy) is included in the data, making the data set contain 11 features which represent the company stock prices at close, and 1258 cases which represent the differnt dates for the collected data over the past 5 years. The Y column is the at-close stock prices of the TCEnergy, our target variable. All the data is continuous.\n",
    "\n",
    "Impact of obtaining good predictions of Y:\n",
    "\n",
    "Naturally, if we obtain good predictions of Y when explanatory variables are known, this means that we can accurately predict the new values of Y, for every new case presented in our explanatory variables."
   ]
  },
  {
   "cell_type": "code",
   "execution_count": 3,
   "metadata": {},
   "outputs": [],
   "source": [
    "#importing data\n",
    "BP=pd.read_csv(r'C:\\Users\\cynth\\OneDrive\\Documents\\BP_stock.csv')\n",
    "Exxon=pd.read_csv(r'C:\\Users\\cynth\\OneDrive\\Documents\\Exxon_stock.csv')\n",
    "Chevron=pd.read_csv(r'C:\\Users\\cynth\\OneDrive\\Documents\\Chevron_stock.csv')\n",
    "Shell=pd.read_csv(r'C:\\Users\\cynth\\OneDrive\\Documents\\RDShellA_stock.csv')\n",
    "Schlum=pd.read_csv(r'C:\\Users\\cynth\\OneDrive\\Documents\\Schlumberger_stock.csv')\n",
    "TOTAL=pd.read_csv(r'C:\\Users\\cynth\\OneDrive\\Documents\\TOTAL_stock.csv')\n",
    "Equinor=pd.read_csv(r'C:\\Users\\cynth\\OneDrive\\Documents\\Equinor_stock.csv')\n",
    "Petrobas=pd.read_csv(r'C:\\Users\\cynth\\OneDrive\\Documents\\Petrobras_stock.csv')\n",
    "Enterp=pd.read_csv(r'C:\\Users\\cynth\\OneDrive\\Documents\\Enterprise_stock.csv')\n",
    "CNOOC=pd.read_csv(r'C:\\Users\\cynth\\OneDrive\\Documents\\CNOOC_stock.csv')\n",
    "TCEnergy=pd.read_csv(r'C:\\Users\\cynth\\OneDrive\\Documents\\TCEnergy_stock.csv')"
   ]
  },
  {
   "cell_type": "code",
   "execution_count": 4,
   "metadata": {},
   "outputs": [
    {
     "name": "stdout",
     "output_type": "stream",
     "text": [
      "stock data (1258, 12)\n"
     ]
    },
    {
     "data": {
      "text/html": [
       "<div>\n",
       "<style scoped>\n",
       "    .dataframe tbody tr th:only-of-type {\n",
       "        vertical-align: middle;\n",
       "    }\n",
       "\n",
       "    .dataframe tbody tr th {\n",
       "        vertical-align: top;\n",
       "    }\n",
       "\n",
       "    .dataframe thead th {\n",
       "        text-align: right;\n",
       "    }\n",
       "</style>\n",
       "<table border=\"1\" class=\"dataframe\">\n",
       "  <thead>\n",
       "    <tr style=\"text-align: right;\">\n",
       "      <th></th>\n",
       "      <th>BP</th>\n",
       "      <th>Exxon</th>\n",
       "      <th>Chevron</th>\n",
       "      <th>Shell</th>\n",
       "      <th>Schlum</th>\n",
       "      <th>TOTAL</th>\n",
       "      <th>Equinor</th>\n",
       "      <th>Petrobas</th>\n",
       "      <th>Enterp</th>\n",
       "      <th>CNOOC</th>\n",
       "      <th>Dummy</th>\n",
       "      <th>Y</th>\n",
       "    </tr>\n",
       "    <tr>\n",
       "      <th>Date</th>\n",
       "      <th></th>\n",
       "      <th></th>\n",
       "      <th></th>\n",
       "      <th></th>\n",
       "      <th></th>\n",
       "      <th></th>\n",
       "      <th></th>\n",
       "      <th></th>\n",
       "      <th></th>\n",
       "      <th></th>\n",
       "      <th></th>\n",
       "      <th></th>\n",
       "    </tr>\n",
       "  </thead>\n",
       "  <tbody>\n",
       "    <tr>\n",
       "      <th>12/3/2014</th>\n",
       "      <td>41.31</td>\n",
       "      <td>94.95</td>\n",
       "      <td>113.71</td>\n",
       "      <td>113.71</td>\n",
       "      <td>86.76</td>\n",
       "      <td>56.54</td>\n",
       "      <td>19.05</td>\n",
       "      <td>9.27</td>\n",
       "      <td>38.17</td>\n",
       "      <td>137.39</td>\n",
       "      <td>1.0</td>\n",
       "      <td>48.87</td>\n",
       "    </tr>\n",
       "    <tr>\n",
       "      <th>12/4/2014</th>\n",
       "      <td>40.39</td>\n",
       "      <td>94.37</td>\n",
       "      <td>112.28</td>\n",
       "      <td>112.28</td>\n",
       "      <td>87.43</td>\n",
       "      <td>55.88</td>\n",
       "      <td>18.53</td>\n",
       "      <td>8.91</td>\n",
       "      <td>38.14</td>\n",
       "      <td>140.14</td>\n",
       "      <td>1.0</td>\n",
       "      <td>49.79</td>\n",
       "    </tr>\n",
       "    <tr>\n",
       "      <th>12/5/2014</th>\n",
       "      <td>39.98</td>\n",
       "      <td>93.82</td>\n",
       "      <td>110.87</td>\n",
       "      <td>110.87</td>\n",
       "      <td>87.16</td>\n",
       "      <td>55.48</td>\n",
       "      <td>18.10</td>\n",
       "      <td>8.82</td>\n",
       "      <td>37.27</td>\n",
       "      <td>137.92</td>\n",
       "      <td>1.0</td>\n",
       "      <td>49.00</td>\n",
       "    </tr>\n",
       "    <tr>\n",
       "      <th>12/8/2014</th>\n",
       "      <td>38.87</td>\n",
       "      <td>91.70</td>\n",
       "      <td>106.80</td>\n",
       "      <td>106.80</td>\n",
       "      <td>84.21</td>\n",
       "      <td>54.12</td>\n",
       "      <td>17.48</td>\n",
       "      <td>8.23</td>\n",
       "      <td>35.35</td>\n",
       "      <td>133.31</td>\n",
       "      <td>1.0</td>\n",
       "      <td>46.03</td>\n",
       "    </tr>\n",
       "    <tr>\n",
       "      <th>12/9/2014</th>\n",
       "      <td>38.52</td>\n",
       "      <td>91.38</td>\n",
       "      <td>107.01</td>\n",
       "      <td>107.01</td>\n",
       "      <td>85.47</td>\n",
       "      <td>53.69</td>\n",
       "      <td>17.47</td>\n",
       "      <td>8.15</td>\n",
       "      <td>35.60</td>\n",
       "      <td>131.07</td>\n",
       "      <td>1.0</td>\n",
       "      <td>46.79</td>\n",
       "    </tr>\n",
       "    <tr>\n",
       "      <th>12/10/2014</th>\n",
       "      <td>37.74</td>\n",
       "      <td>88.67</td>\n",
       "      <td>104.86</td>\n",
       "      <td>104.86</td>\n",
       "      <td>83.17</td>\n",
       "      <td>51.75</td>\n",
       "      <td>17.05</td>\n",
       "      <td>7.75</td>\n",
       "      <td>34.50</td>\n",
       "      <td>128.66</td>\n",
       "      <td>1.0</td>\n",
       "      <td>45.16</td>\n",
       "    </tr>\n",
       "    <tr>\n",
       "      <th>12/11/2014</th>\n",
       "      <td>37.33</td>\n",
       "      <td>89.20</td>\n",
       "      <td>104.91</td>\n",
       "      <td>104.91</td>\n",
       "      <td>83.01</td>\n",
       "      <td>51.22</td>\n",
       "      <td>16.71</td>\n",
       "      <td>7.42</td>\n",
       "      <td>33.93</td>\n",
       "      <td>128.15</td>\n",
       "      <td>1.0</td>\n",
       "      <td>45.47</td>\n",
       "    </tr>\n",
       "    <tr>\n",
       "      <th>12/12/2014</th>\n",
       "      <td>36.24</td>\n",
       "      <td>86.60</td>\n",
       "      <td>102.38</td>\n",
       "      <td>102.38</td>\n",
       "      <td>80.00</td>\n",
       "      <td>50.12</td>\n",
       "      <td>16.23</td>\n",
       "      <td>7.11</td>\n",
       "      <td>33.18</td>\n",
       "      <td>126.96</td>\n",
       "      <td>1.0</td>\n",
       "      <td>45.11</td>\n",
       "    </tr>\n",
       "    <tr>\n",
       "      <th>12/15/2014</th>\n",
       "      <td>34.94</td>\n",
       "      <td>86.90</td>\n",
       "      <td>100.86</td>\n",
       "      <td>100.86</td>\n",
       "      <td>79.90</td>\n",
       "      <td>48.74</td>\n",
       "      <td>15.82</td>\n",
       "      <td>6.26</td>\n",
       "      <td>32.36</td>\n",
       "      <td>126.70</td>\n",
       "      <td>1.0</td>\n",
       "      <td>44.84</td>\n",
       "    </tr>\n",
       "    <tr>\n",
       "      <th>12/16/2014</th>\n",
       "      <td>35.76</td>\n",
       "      <td>86.41</td>\n",
       "      <td>101.70</td>\n",
       "      <td>101.70</td>\n",
       "      <td>80.19</td>\n",
       "      <td>49.42</td>\n",
       "      <td>16.29</td>\n",
       "      <td>6.28</td>\n",
       "      <td>33.54</td>\n",
       "      <td>126.93</td>\n",
       "      <td>1.0</td>\n",
       "      <td>45.42</td>\n",
       "    </tr>\n",
       "  </tbody>\n",
       "</table>\n",
       "</div>"
      ],
      "text/plain": [
       "               BP  Exxon  Chevron   Shell  Schlum  TOTAL  Equinor  Petrobas  \\\n",
       "Date                                                                          \n",
       "12/3/2014   41.31  94.95   113.71  113.71   86.76  56.54    19.05      9.27   \n",
       "12/4/2014   40.39  94.37   112.28  112.28   87.43  55.88    18.53      8.91   \n",
       "12/5/2014   39.98  93.82   110.87  110.87   87.16  55.48    18.10      8.82   \n",
       "12/8/2014   38.87  91.70   106.80  106.80   84.21  54.12    17.48      8.23   \n",
       "12/9/2014   38.52  91.38   107.01  107.01   85.47  53.69    17.47      8.15   \n",
       "12/10/2014  37.74  88.67   104.86  104.86   83.17  51.75    17.05      7.75   \n",
       "12/11/2014  37.33  89.20   104.91  104.91   83.01  51.22    16.71      7.42   \n",
       "12/12/2014  36.24  86.60   102.38  102.38   80.00  50.12    16.23      7.11   \n",
       "12/15/2014  34.94  86.90   100.86  100.86   79.90  48.74    15.82      6.26   \n",
       "12/16/2014  35.76  86.41   101.70  101.70   80.19  49.42    16.29      6.28   \n",
       "\n",
       "            Enterp   CNOOC  Dummy      Y  \n",
       "Date                                      \n",
       "12/3/2014    38.17  137.39    1.0  48.87  \n",
       "12/4/2014    38.14  140.14    1.0  49.79  \n",
       "12/5/2014    37.27  137.92    1.0  49.00  \n",
       "12/8/2014    35.35  133.31    1.0  46.03  \n",
       "12/9/2014    35.60  131.07    1.0  46.79  \n",
       "12/10/2014   34.50  128.66    1.0  45.16  \n",
       "12/11/2014   33.93  128.15    1.0  45.47  \n",
       "12/12/2014   33.18  126.96    1.0  45.11  \n",
       "12/15/2014   32.36  126.70    1.0  44.84  \n",
       "12/16/2014   33.54  126.93    1.0  45.42  "
      ]
     },
     "execution_count": 4,
     "metadata": {},
     "output_type": "execute_result"
    }
   ],
   "source": [
    "#creating data frame\n",
    "BP=BP[['Date','Close']]\n",
    "Exxon=Exxon[['Date','Close']]\n",
    "Chevron=Chevron[['Date','Close']]\n",
    "Shell=Chevron[['Date','Close']]\n",
    "Schlum=Schlum[['Date','Close']]\n",
    "TOTAL=TOTAL[['Date','Close']]\n",
    "Equinor=Equinor[['Date','Close']]\n",
    "Petrobas=Petrobas[['Date','Close']]\n",
    "Enterp=Enterp[['Date','Close']]\n",
    "CNOOC=CNOOC[['Date','Close']]\n",
    "S=pd.merge(BP,Exxon, on='Date',how='outer')\n",
    "S=pd.merge(S,Chevron, on='Date',how='outer')\n",
    "S=pd.merge(S,Shell,on='Date',how='outer')\n",
    "S=pd.merge(S,Schlum,on='Date',how='outer')\n",
    "S=pd.merge(S,TOTAL,on='Date',how='outer')\n",
    "S=pd.merge(S,Equinor,on='Date',how='outer')\n",
    "S=pd.merge(S,Petrobas,on='Date',how='outer')\n",
    "S=pd.merge(S,Enterp,on='Date',how='outer')\n",
    "stock=pd.merge(S,CNOOC,on='Date',how='outer')\n",
    "\n",
    "#stock=pd.concat((BP['Close'],Exxon['Close'],Chevron['Close'],Shell['Close'],\n",
    "                 #Schlum['Close'],TOTAL['Close'],Equinor['Close'],Petrobas['Close'],\n",
    "                 #Enterp['Close'],CNOOC['Close']),axis=1)\n",
    "\n",
    "stock['Dummy']=1\n",
    "Y=TCEnergy[['Date','Close']]\n",
    "stock=pd.merge(stock,Y,on='Date',how='outer')\n",
    "columns=['Date','BP','Exxon','Chevron','Shell','Schlum','TOTAL','Equinor','Petrobas','Enterp','CNOOC','Dummy','Y']\n",
    "stock.columns=columns\n",
    "stock=stock.set_index('Date')\n",
    "stock=stock.dropna()\n",
    "print('stock data',stock.shape)\n",
    "round((stock.head(10)),2)"
   ]
  },
  {
   "cell_type": "code",
   "execution_count": 5,
   "metadata": {},
   "outputs": [
    {
     "name": "stdout",
     "output_type": "stream",
     "text": [
      "mean and standard deviation\n"
     ]
    },
    {
     "data": {
      "text/html": [
       "<div>\n",
       "<style scoped>\n",
       "    .dataframe tbody tr th:only-of-type {\n",
       "        vertical-align: middle;\n",
       "    }\n",
       "\n",
       "    .dataframe tbody tr th {\n",
       "        vertical-align: top;\n",
       "    }\n",
       "\n",
       "    .dataframe thead th {\n",
       "        text-align: right;\n",
       "    }\n",
       "</style>\n",
       "<table border=\"1\" class=\"dataframe\">\n",
       "  <thead>\n",
       "    <tr style=\"text-align: right;\">\n",
       "      <th></th>\n",
       "      <th>BP</th>\n",
       "      <th>Exxon</th>\n",
       "      <th>Chevron</th>\n",
       "      <th>Shell</th>\n",
       "      <th>Schlum</th>\n",
       "      <th>TOTAL</th>\n",
       "      <th>Equinor</th>\n",
       "      <th>Petrobas</th>\n",
       "      <th>Enterp</th>\n",
       "      <th>CNOOC</th>\n",
       "      <th>Dummy</th>\n",
       "      <th>Y</th>\n",
       "    </tr>\n",
       "  </thead>\n",
       "  <tbody>\n",
       "    <tr>\n",
       "      <th>mean</th>\n",
       "      <td>38.01</td>\n",
       "      <td>81.27</td>\n",
       "      <td>109.35</td>\n",
       "      <td>109.35</td>\n",
       "      <td>67.12</td>\n",
       "      <td>52.41</td>\n",
       "      <td>19.31</td>\n",
       "      <td>10.25</td>\n",
       "      <td>27.78</td>\n",
       "      <td>139.74</td>\n",
       "      <td>1.0</td>\n",
       "      <td>43.98</td>\n",
       "    </tr>\n",
       "    <tr>\n",
       "      <th>std</th>\n",
       "      <td>4.39</td>\n",
       "      <td>5.98</td>\n",
       "      <td>12.34</td>\n",
       "      <td>12.34</td>\n",
       "      <td>16.41</td>\n",
       "      <td>5.02</td>\n",
       "      <td>3.60</td>\n",
       "      <td>3.65</td>\n",
       "      <td>2.68</td>\n",
       "      <td>23.95</td>\n",
       "      <td>0.0</td>\n",
       "      <td>5.13</td>\n",
       "    </tr>\n",
       "  </tbody>\n",
       "</table>\n",
       "</div>"
      ],
      "text/plain": [
       "         BP  Exxon  Chevron   Shell  Schlum  TOTAL  Equinor  Petrobas  Enterp  \\\n",
       "mean  38.01  81.27   109.35  109.35   67.12  52.41    19.31     10.25   27.78   \n",
       "std    4.39   5.98    12.34   12.34   16.41   5.02     3.60      3.65    2.68   \n",
       "\n",
       "       CNOOC  Dummy      Y  \n",
       "mean  139.74    1.0  43.98  \n",
       "std    23.95    0.0   5.13  "
      ]
     },
     "execution_count": 5,
     "metadata": {},
     "output_type": "execute_result"
    }
   ],
   "source": [
    "#compute mean and standard deviation\n",
    "stats=round((stock.agg(['mean','std'])),2)\n",
    "print('mean and standard deviation')\n",
    "stats"
   ]
  },
  {
   "cell_type": "code",
   "execution_count": 6,
   "metadata": {},
   "outputs": [],
   "source": [
    "#splitting data set into train and test\n",
    "Y=stock['Y']\n",
    "from sklearn.model_selection import train_test_split\n",
    "X_train, X_test, y_train, y_test = train_test_split(stock.drop(['Y'],axis=1), Y, test_size=0.2, random_state=1)"
   ]
  },
  {
   "cell_type": "code",
   "execution_count": 7,
   "metadata": {},
   "outputs": [
    {
     "name": "stdout",
     "output_type": "stream",
     "text": [
      "correlation between company stock and Y\n"
     ]
    },
    {
     "data": {
      "text/html": [
       "<div>\n",
       "<style scoped>\n",
       "    .dataframe tbody tr th:only-of-type {\n",
       "        vertical-align: middle;\n",
       "    }\n",
       "\n",
       "    .dataframe tbody tr th {\n",
       "        vertical-align: top;\n",
       "    }\n",
       "\n",
       "    .dataframe thead th {\n",
       "        text-align: right;\n",
       "    }\n",
       "</style>\n",
       "<table border=\"1\" class=\"dataframe\">\n",
       "  <thead>\n",
       "    <tr style=\"text-align: right;\">\n",
       "      <th></th>\n",
       "      <th>corr Y</th>\n",
       "      <th>absolute corr Y</th>\n",
       "    </tr>\n",
       "  </thead>\n",
       "  <tbody>\n",
       "    <tr>\n",
       "      <th>BP</th>\n",
       "      <td>0.312</td>\n",
       "      <td>0.312</td>\n",
       "    </tr>\n",
       "    <tr>\n",
       "      <th>Exxon</th>\n",
       "      <td>0.050</td>\n",
       "      <td>0.050</td>\n",
       "    </tr>\n",
       "    <tr>\n",
       "      <th>Chevron</th>\n",
       "      <td>0.658</td>\n",
       "      <td>0.658</td>\n",
       "    </tr>\n",
       "    <tr>\n",
       "      <th>Shell</th>\n",
       "      <td>0.658</td>\n",
       "      <td>0.658</td>\n",
       "    </tr>\n",
       "    <tr>\n",
       "      <th>Schlum</th>\n",
       "      <td>-0.245</td>\n",
       "      <td>0.245</td>\n",
       "    </tr>\n",
       "    <tr>\n",
       "      <th>TOTAL</th>\n",
       "      <td>0.277</td>\n",
       "      <td>0.277</td>\n",
       "    </tr>\n",
       "    <tr>\n",
       "      <th>Equinor</th>\n",
       "      <td>0.199</td>\n",
       "      <td>0.199</td>\n",
       "    </tr>\n",
       "    <tr>\n",
       "      <th>Petrobas</th>\n",
       "      <td>0.505</td>\n",
       "      <td>0.505</td>\n",
       "    </tr>\n",
       "    <tr>\n",
       "      <th>Enterp</th>\n",
       "      <td>0.294</td>\n",
       "      <td>0.294</td>\n",
       "    </tr>\n",
       "    <tr>\n",
       "      <th>CNOOC</th>\n",
       "      <td>0.277</td>\n",
       "      <td>0.277</td>\n",
       "    </tr>\n",
       "    <tr>\n",
       "      <th>Dummy</th>\n",
       "      <td>NaN</td>\n",
       "      <td>NaN</td>\n",
       "    </tr>\n",
       "    <tr>\n",
       "      <th>Y</th>\n",
       "      <td>1.000</td>\n",
       "      <td>1.000</td>\n",
       "    </tr>\n",
       "  </tbody>\n",
       "</table>\n",
       "</div>"
      ],
      "text/plain": [
       "          corr Y   absolute corr Y \n",
       "BP          0.312             0.312\n",
       "Exxon       0.050             0.050\n",
       "Chevron     0.658             0.658\n",
       "Shell       0.658             0.658\n",
       "Schlum     -0.245             0.245\n",
       "TOTAL       0.277             0.277\n",
       "Equinor     0.199             0.199\n",
       "Petrobas    0.505             0.505\n",
       "Enterp      0.294             0.294\n",
       "CNOOC       0.277             0.277\n",
       "Dummy         NaN               NaN\n",
       "Y           1.000             1.000"
      ]
     },
     "execution_count": 7,
     "metadata": {},
     "output_type": "execute_result"
    }
   ],
   "source": [
    "#computing correlations and their absolute values\n",
    "corrY=stock.corr()\n",
    "Ecorr=round((corrY['Y']),3)\n",
    "Ecorr_abs=abs(Ecorr)\n",
    "corr=pd.concat((Ecorr,Ecorr_abs),axis=1)\n",
    "corr.columns=['corr Y ','absolute corr Y ']\n",
    "print('correlation between company stock and Y')\n",
    "corr"
   ]
  },
  {
   "cell_type": "code",
   "execution_count": 8,
   "metadata": {
    "scrolled": false
   },
   "outputs": [
    {
     "name": "stdout",
     "output_type": "stream",
     "text": [
      "The 3 largest values of correlation with Y are:\n"
     ]
    },
    {
     "data": {
      "text/html": [
       "<div>\n",
       "<style scoped>\n",
       "    .dataframe tbody tr th:only-of-type {\n",
       "        vertical-align: middle;\n",
       "    }\n",
       "\n",
       "    .dataframe tbody tr th {\n",
       "        vertical-align: top;\n",
       "    }\n",
       "\n",
       "    .dataframe thead th {\n",
       "        text-align: right;\n",
       "    }\n",
       "</style>\n",
       "<table border=\"1\" class=\"dataframe\">\n",
       "  <thead>\n",
       "    <tr style=\"text-align: right;\">\n",
       "      <th></th>\n",
       "      <th>Y</th>\n",
       "    </tr>\n",
       "  </thead>\n",
       "  <tbody>\n",
       "    <tr>\n",
       "      <th>Shell</th>\n",
       "      <td>0.658</td>\n",
       "    </tr>\n",
       "    <tr>\n",
       "      <th>Chevron</th>\n",
       "      <td>0.658</td>\n",
       "    </tr>\n",
       "    <tr>\n",
       "      <th>Petrobas</th>\n",
       "      <td>0.505</td>\n",
       "    </tr>\n",
       "  </tbody>\n",
       "</table>\n",
       "</div>"
      ],
      "text/plain": [
       "              Y\n",
       "Shell     0.658\n",
       "Chevron   0.658\n",
       "Petrobas  0.505"
      ]
     },
     "execution_count": 8,
     "metadata": {},
     "output_type": "execute_result"
    },
    {
     "data": {
      "image/png": "[encoded data removed]",
      "text/plain": [
       "<Figure size 432x288 with 1 Axes>"
      ]
     },
     "metadata": {
      "needs_background": "light"
     },
     "output_type": "display_data"
    }
   ],
   "source": [
    "#3 largest absolute correlation values\n",
    "m=Ecorr_abs.sort_values(ascending=False)\n",
    "largest=pd.DataFrame(m.iloc[1:4])\n",
    "print('The 3 largest values of correlation with Y are:')\n",
    "\n",
    "#scatterplots of features with highest correlation\n",
    "plt.scatter(stock['Chevron'],stock['Y'], s=10,facecolors='none', edgecolors='blue')\n",
    "plt.title('Correlation between Chevron daily closing stock and Y')\n",
    "plt.xlabel('Chevron stock')\n",
    "plt.ylabel('Y')\n",
    "\n",
    "largest"
   ]
  },
  {
   "cell_type": "code",
   "execution_count": 9,
   "metadata": {
    "scrolled": true
   },
   "outputs": [
    {
     "data": {
      "text/plain": [
       "Text(0, 0.5, 'Y')"
      ]
     },
     "execution_count": 9,
     "metadata": {},
     "output_type": "execute_result"
    },
    {
     "data": {
      "image/png": "[encoded data removed]",
      "text/plain": [
       "<Figure size 432x288 with 1 Axes>"
      ]
     },
     "metadata": {
      "needs_background": "light"
     },
     "output_type": "display_data"
    }
   ],
   "source": [
    "plt.scatter(stock['Petrobas'],stock['Y'], s=10,facecolors='none', edgecolors='red')\n",
    "plt.title('Correlation between Petrobas daily closing stock and Y')\n",
    "plt.xlabel('Petrobas stock')\n",
    "plt.ylabel('Y')"
   ]
  },
  {
   "cell_type": "code",
   "execution_count": 10,
   "metadata": {},
   "outputs": [
    {
     "data": {
      "text/plain": [
       "Text(0, 0.5, 'Y')"
      ]
     },
     "execution_count": 10,
     "metadata": {},
     "output_type": "execute_result"
    },
    {
     "data": {
      "image/png": "[encoded data removed]",
      "text/plain": [
       "<Figure size 432x288 with 1 Axes>"
      ]
     },
     "metadata": {
      "needs_background": "light"
     },
     "output_type": "display_data"
    }
   ],
   "source": [
    "plt.scatter(stock['Shell'],stock['Y'], s=10,facecolors='none', edgecolors='purple')\n",
    "plt.title('Correlation between Shell daily closing stock and Y')\n",
    "plt.xlabel('Shell stock')\n",
    "plt.ylabel('Y')"
   ]
  },
  {
   "cell_type": "markdown",
   "metadata": {},
   "source": [
    "From the correlation plots, we see that our top 3 features correlate well with Y but still don't have perfect correlation. The plots show much variation. This means that Y prices probably only partially depends on the prices of these 3 features. Shell correlates best with Y, Chevron next, and then Petrobas."
   ]
  },
  {
   "cell_type": "markdown",
   "metadata": {},
   "source": [
    "# Question 2: Kernel Ridge Regression (KRR) with radial kernel"
   ]
  },
  {
   "cell_type": "code",
   "execution_count": 11,
   "metadata": {},
   "outputs": [],
   "source": [
    "#importing packages\n",
    "\n",
    "from sklearn.kernel_ridge import KernelRidge\n",
    "from sklearn.metrics import mean_squared_error\n",
    "from sklearn.metrics.pairwise import rbf_kernel\n",
    "from numpy import linalg as LA"
   ]
  },
  {
   "cell_type": "code",
   "execution_count": 12,
   "metadata": {},
   "outputs": [
    {
     "name": "stdout",
     "output_type": "stream",
     "text": [
      "shape of Xtrain, Xtest, ytrain, ytest\n"
     ]
    },
    {
     "data": {
      "text/plain": [
       "((1006, 11), (252, 11), (1006,), (252,))"
      ]
     },
     "execution_count": 12,
     "metadata": {},
     "output_type": "execute_result"
    }
   ],
   "source": [
    "#reset index of train set\n",
    "#X_train=X_train.reset_index()\n",
    "print('shape of Xtrain, Xtest, ytrain, ytest')\n",
    "X_train.shape, X_test.shape, y_train.shape, y_test.shape"
   ]
  },
  {
   "cell_type": "code",
   "execution_count": 13,
   "metadata": {},
   "outputs": [
    {
     "data": {
      "image/png": "[encoded data removed]",
      "text/plain": [
       "<Figure size 432x288 with 1 Axes>"
      ]
     },
     "metadata": {
      "needs_background": "light"
     },
     "output_type": "display_data"
    },
    {
     "name": "stdout",
     "output_type": "stream",
     "text": [
      "The 10% quantile of Dij is: 15.16 \n",
      "\n",
      "The value of gamma is: 0.07\n"
     ]
    }
   ],
   "source": [
    "#computing the norm of eigenvalues\n",
    "np.random.seed(1)\n",
    "list1=np.random.choice(len(X_train),100, replace=False)\n",
    "list2=np.random.choice(len(X_train),100, replace=False)\n",
    "Dij=[]\n",
    "for i in list1:\n",
    "    for j in list2:\n",
    "        Dij.append(LA.norm((X_train.iloc[i])-(X_train.iloc[j])))\n",
    "plt.hist(Dij, bins=30, color='blue')\n",
    "plt.xlabel('Eucledian Distance')\n",
    "plt.show()\n",
    "\n",
    "#10% quantile of Dij\n",
    "Dij=pd.DataFrame(Dij)\n",
    "q=Dij.quantile(0.1)\n",
    "print('The 10% quantile of Dij is:', round((q[0]),2),'\\n')\n",
    "\n",
    "#value of gamma\n",
    "gamma1=1/q\n",
    "print('The value of gamma is:',round((gamma1[0]),2))"
   ]
  },
  {
   "cell_type": "code",
   "execution_count": 14,
   "metadata": {
    "scrolled": false
   },
   "outputs": [
    {
     "name": "stdout",
     "output_type": "stream",
     "text": [
      "Gramian Matrix (1006, 1006)\n"
     ]
    },
    {
     "data": {
      "text/html": [
       "<div>\n",
       "<style scoped>\n",
       "    .dataframe tbody tr th:only-of-type {\n",
       "        vertical-align: middle;\n",
       "    }\n",
       "\n",
       "    .dataframe tbody tr th {\n",
       "        vertical-align: top;\n",
       "    }\n",
       "\n",
       "    .dataframe thead th {\n",
       "        text-align: right;\n",
       "    }\n",
       "</style>\n",
       "<table border=\"1\" class=\"dataframe\">\n",
       "  <thead>\n",
       "    <tr style=\"text-align: right;\">\n",
       "      <th></th>\n",
       "      <th>0</th>\n",
       "      <th>1</th>\n",
       "      <th>2</th>\n",
       "      <th>3</th>\n",
       "      <th>4</th>\n",
       "      <th>5</th>\n",
       "      <th>6</th>\n",
       "      <th>7</th>\n",
       "      <th>8</th>\n",
       "      <th>9</th>\n",
       "      <th>...</th>\n",
       "      <th>996</th>\n",
       "      <th>997</th>\n",
       "      <th>998</th>\n",
       "      <th>999</th>\n",
       "      <th>1000</th>\n",
       "      <th>1001</th>\n",
       "      <th>1002</th>\n",
       "      <th>1003</th>\n",
       "      <th>1004</th>\n",
       "      <th>1005</th>\n",
       "    </tr>\n",
       "  </thead>\n",
       "  <tbody>\n",
       "    <tr>\n",
       "      <th>0</th>\n",
       "      <td>1.000000e+00</td>\n",
       "      <td>8.955700e-55</td>\n",
       "      <td>1.251045e-111</td>\n",
       "      <td>2.687791e-65</td>\n",
       "      <td>1.349986e-103</td>\n",
       "      <td>4.510886e-118</td>\n",
       "      <td>1.306299e-102</td>\n",
       "      <td>5.397857e-102</td>\n",
       "      <td>1.285619e-101</td>\n",
       "      <td>6.714154e-191</td>\n",
       "      <td>...</td>\n",
       "      <td>1.395469e-39</td>\n",
       "      <td>1.933323e-123</td>\n",
       "      <td>7.718856e-113</td>\n",
       "      <td>6.768081e-81</td>\n",
       "      <td>3.896103e-51</td>\n",
       "      <td>1.147249e-61</td>\n",
       "      <td>4.930513e-73</td>\n",
       "      <td>7.648736e-54</td>\n",
       "      <td>8.856735e-149</td>\n",
       "      <td>1.325151e-29</td>\n",
       "    </tr>\n",
       "    <tr>\n",
       "      <th>1</th>\n",
       "      <td>8.955700e-55</td>\n",
       "      <td>1.000000e+00</td>\n",
       "      <td>4.970745e-201</td>\n",
       "      <td>7.226658e-128</td>\n",
       "      <td>4.174239e-167</td>\n",
       "      <td>1.606840e-166</td>\n",
       "      <td>1.131792e-157</td>\n",
       "      <td>1.010460e-177</td>\n",
       "      <td>3.445016e-154</td>\n",
       "      <td>0.000000e+00</td>\n",
       "      <td>...</td>\n",
       "      <td>1.323882e-85</td>\n",
       "      <td>6.697090e-121</td>\n",
       "      <td>1.210483e-150</td>\n",
       "      <td>2.483145e-10</td>\n",
       "      <td>9.356514e-38</td>\n",
       "      <td>4.952660e-117</td>\n",
       "      <td>3.601067e-34</td>\n",
       "      <td>5.900095e-01</td>\n",
       "      <td>1.822020e-255</td>\n",
       "      <td>4.003251e-05</td>\n",
       "    </tr>\n",
       "    <tr>\n",
       "      <th>2</th>\n",
       "      <td>1.251045e-111</td>\n",
       "      <td>4.970745e-201</td>\n",
       "      <td>1.000000e+00</td>\n",
       "      <td>4.471455e-26</td>\n",
       "      <td>2.764981e-04</td>\n",
       "      <td>3.053353e-27</td>\n",
       "      <td>1.043107e-11</td>\n",
       "      <td>4.706059e-06</td>\n",
       "      <td>3.701302e-07</td>\n",
       "      <td>9.654142e-33</td>\n",
       "      <td>...</td>\n",
       "      <td>1.765950e-37</td>\n",
       "      <td>2.658194e-43</td>\n",
       "      <td>6.096427e-17</td>\n",
       "      <td>8.386403e-191</td>\n",
       "      <td>3.573060e-94</td>\n",
       "      <td>2.117241e-30</td>\n",
       "      <td>4.179100e-135</td>\n",
       "      <td>3.427391e-203</td>\n",
       "      <td>4.949840e-06</td>\n",
       "      <td>3.363463e-161</td>\n",
       "    </tr>\n",
       "    <tr>\n",
       "      <th>3</th>\n",
       "      <td>2.687791e-65</td>\n",
       "      <td>7.226658e-128</td>\n",
       "      <td>4.471455e-26</td>\n",
       "      <td>1.000000e+00</td>\n",
       "      <td>6.807147e-18</td>\n",
       "      <td>1.812880e-10</td>\n",
       "      <td>6.989911e-11</td>\n",
       "      <td>1.687433e-10</td>\n",
       "      <td>5.294332e-20</td>\n",
       "      <td>1.839119e-106</td>\n",
       "      <td>...</td>\n",
       "      <td>4.779627e-06</td>\n",
       "      <td>9.005209e-49</td>\n",
       "      <td>2.822797e-39</td>\n",
       "      <td>1.338636e-116</td>\n",
       "      <td>2.322191e-38</td>\n",
       "      <td>4.666193e-01</td>\n",
       "      <td>3.374446e-61</td>\n",
       "      <td>8.249074e-132</td>\n",
       "      <td>7.752341e-48</td>\n",
       "      <td>1.521772e-95</td>\n",
       "    </tr>\n",
       "    <tr>\n",
       "      <th>4</th>\n",
       "      <td>1.349986e-103</td>\n",
       "      <td>4.174239e-167</td>\n",
       "      <td>2.764981e-04</td>\n",
       "      <td>6.807147e-18</td>\n",
       "      <td>1.000000e+00</td>\n",
       "      <td>2.007353e-15</td>\n",
       "      <td>3.052857e-04</td>\n",
       "      <td>1.116032e-03</td>\n",
       "      <td>1.639701e-01</td>\n",
       "      <td>1.902005e-53</td>\n",
       "      <td>...</td>\n",
       "      <td>3.126352e-26</td>\n",
       "      <td>4.784429e-26</td>\n",
       "      <td>2.172577e-10</td>\n",
       "      <td>3.579717e-152</td>\n",
       "      <td>1.668897e-68</td>\n",
       "      <td>2.697341e-20</td>\n",
       "      <td>1.640381e-101</td>\n",
       "      <td>6.123597e-170</td>\n",
       "      <td>3.642478e-15</td>\n",
       "      <td>3.262814e-134</td>\n",
       "    </tr>\n",
       "  </tbody>\n",
       "</table>\n",
       "<p>5 rows × 1006 columns</p>\n",
       "</div>"
      ],
      "text/plain": [
       "            0              1              2              3              4     \\\n",
       "0   1.000000e+00   8.955700e-55  1.251045e-111   2.687791e-65  1.349986e-103   \n",
       "1   8.955700e-55   1.000000e+00  4.970745e-201  7.226658e-128  4.174239e-167   \n",
       "2  1.251045e-111  4.970745e-201   1.000000e+00   4.471455e-26   2.764981e-04   \n",
       "3   2.687791e-65  7.226658e-128   4.471455e-26   1.000000e+00   6.807147e-18   \n",
       "4  1.349986e-103  4.174239e-167   2.764981e-04   6.807147e-18   1.000000e+00   \n",
       "\n",
       "            5              6              7              8              9     \\\n",
       "0  4.510886e-118  1.306299e-102  5.397857e-102  1.285619e-101  6.714154e-191   \n",
       "1  1.606840e-166  1.131792e-157  1.010460e-177  3.445016e-154   0.000000e+00   \n",
       "2   3.053353e-27   1.043107e-11   4.706059e-06   3.701302e-07   9.654142e-33   \n",
       "3   1.812880e-10   6.989911e-11   1.687433e-10   5.294332e-20  1.839119e-106   \n",
       "4   2.007353e-15   3.052857e-04   1.116032e-03   1.639701e-01   1.902005e-53   \n",
       "\n",
       "   ...          996            997            998            999   \\\n",
       "0  ...  1.395469e-39  1.933323e-123  7.718856e-113   6.768081e-81   \n",
       "1  ...  1.323882e-85  6.697090e-121  1.210483e-150   2.483145e-10   \n",
       "2  ...  1.765950e-37   2.658194e-43   6.096427e-17  8.386403e-191   \n",
       "3  ...  4.779627e-06   9.005209e-49   2.822797e-39  1.338636e-116   \n",
       "4  ...  3.126352e-26   4.784429e-26   2.172577e-10  3.579717e-152   \n",
       "\n",
       "           1000           1001           1002           1003           1004  \\\n",
       "0  3.896103e-51   1.147249e-61   4.930513e-73   7.648736e-54  8.856735e-149   \n",
       "1  9.356514e-38  4.952660e-117   3.601067e-34   5.900095e-01  1.822020e-255   \n",
       "2  3.573060e-94   2.117241e-30  4.179100e-135  3.427391e-203   4.949840e-06   \n",
       "3  2.322191e-38   4.666193e-01   3.374446e-61  8.249074e-132   7.752341e-48   \n",
       "4  1.668897e-68   2.697341e-20  1.640381e-101  6.123597e-170   3.642478e-15   \n",
       "\n",
       "            1005  \n",
       "0   1.325151e-29  \n",
       "1   4.003251e-05  \n",
       "2  3.363463e-161  \n",
       "3   1.521772e-95  \n",
       "4  3.262814e-134  \n",
       "\n",
       "[5 rows x 1006 columns]"
      ]
     },
     "execution_count": 14,
     "metadata": {},
     "output_type": "execute_result"
    }
   ],
   "source": [
    "from scipy.spatial import distance_matrix\n",
    "G = distance_matrix(X_train,X_train)\n",
    "G = pd.DataFrame(np.exp(-gamma1[0]*(G**2)))\n",
    "print('Gramian Matrix',G.shape)\n",
    "G.head()"
   ]
  },
  {
   "cell_type": "code",
   "execution_count": 15,
   "metadata": {
    "scrolled": true
   },
   "outputs": [
    {
     "name": "stdout",
     "output_type": "stream",
     "text": [
      "eigen values (1006,) \n",
      "\n"
     ]
    }
   ],
   "source": [
    "#compute eigen values for the Gramian\n",
    "from numpy import linalg as LA\n",
    "eigval, eigvec=LA.eig(G)\n",
    "print('eigen values',eigval.shape,'\\n')"
   ]
  },
  {
   "cell_type": "code",
   "execution_count": 16,
   "metadata": {
    "scrolled": false
   },
   "outputs": [
    {
     "name": "stdout",
     "output_type": "stream",
     "text": [
      "\n",
      "\n"
     ]
    },
    {
     "data": {
      "image/png": "[encoded data removed]",
      "text/plain": [
       "<Figure size 432x288 with 1 Axes>"
      ]
     },
     "metadata": {
      "needs_background": "light"
     },
     "output_type": "display_data"
    }
   ],
   "source": [
    "#plot of eigen values, Lj vs j\n",
    "Lj=eigval.tolist()\n",
    "j=list(range(1,len(Lj)+1))\n",
    "plt.scatter(j,Lj,c='red',s=5)\n",
    "plt.title('Plot of Lj vs j')\n",
    "plt.xlabel('j')\n",
    "plt.ylabel('Lj')\n",
    "print('\\n')"
   ]
  },
  {
   "cell_type": "code",
   "execution_count": 17,
   "metadata": {
    "scrolled": true
   },
   "outputs": [
    {
     "name": "stdout",
     "output_type": "stream",
     "text": [
      "Value of lambda: 0.311\n"
     ]
    },
    {
     "data": {
      "image/png": "[encoded data removed]",
      "text/plain": [
       "<Figure size 432x288 with 1 Axes>"
      ]
     },
     "metadata": {
      "needs_background": "light"
     },
     "output_type": "display_data"
    }
   ],
   "source": [
    "##plot of increasing ratios RATj\n",
    "x=pd.DataFrame(Lj).cumsum()\n",
    "RATj=x/sum(Lj)\n",
    "plt.scatter(j,RATj,c='red',s=5)\n",
    "plt.title('Plot of increasing ratios RATj')\n",
    "plt.ylabel('RATj')\n",
    "plt.xlabel('j')\n",
    "\n",
    "n=RATj[RATj>0.95]\n",
    "n=n.dropna()\n",
    "u=n.index.tolist()\n",
    "λ=round((Lj[u[0]]),4)\n",
    "print('Value of lambda:',λ)"
   ]
  },
  {
   "cell_type": "code",
   "execution_count": 18,
   "metadata": {},
   "outputs": [
    {
     "name": "stdout",
     "output_type": "stream",
     "text": [
      "Matrix M (1006, 1006)\n"
     ]
    },
    {
     "data": {
      "text/html": [
       "<div>\n",
       "<style scoped>\n",
       "    .dataframe tbody tr th:only-of-type {\n",
       "        vertical-align: middle;\n",
       "    }\n",
       "\n",
       "    .dataframe tbody tr th {\n",
       "        vertical-align: top;\n",
       "    }\n",
       "\n",
       "    .dataframe thead th {\n",
       "        text-align: right;\n",
       "    }\n",
       "</style>\n",
       "<table border=\"1\" class=\"dataframe\">\n",
       "  <thead>\n",
       "    <tr style=\"text-align: right;\">\n",
       "      <th></th>\n",
       "      <th>0</th>\n",
       "      <th>1</th>\n",
       "      <th>2</th>\n",
       "      <th>3</th>\n",
       "      <th>4</th>\n",
       "      <th>5</th>\n",
       "      <th>6</th>\n",
       "      <th>7</th>\n",
       "      <th>8</th>\n",
       "      <th>9</th>\n",
       "      <th>...</th>\n",
       "      <th>996</th>\n",
       "      <th>997</th>\n",
       "      <th>998</th>\n",
       "      <th>999</th>\n",
       "      <th>1000</th>\n",
       "      <th>1001</th>\n",
       "      <th>1002</th>\n",
       "      <th>1003</th>\n",
       "      <th>1004</th>\n",
       "      <th>1005</th>\n",
       "    </tr>\n",
       "  </thead>\n",
       "  <tbody>\n",
       "    <tr>\n",
       "      <th>0</th>\n",
       "      <td>1.311000e+00</td>\n",
       "      <td>8.955700e-55</td>\n",
       "      <td>1.251045e-111</td>\n",
       "      <td>2.687791e-65</td>\n",
       "      <td>1.349986e-103</td>\n",
       "      <td>4.510886e-118</td>\n",
       "      <td>1.306299e-102</td>\n",
       "      <td>5.397857e-102</td>\n",
       "      <td>1.285619e-101</td>\n",
       "      <td>6.714154e-191</td>\n",
       "      <td>...</td>\n",
       "      <td>1.395469e-39</td>\n",
       "      <td>1.933323e-123</td>\n",
       "      <td>7.718856e-113</td>\n",
       "      <td>6.768081e-81</td>\n",
       "      <td>3.896103e-51</td>\n",
       "      <td>1.147249e-61</td>\n",
       "      <td>4.930513e-73</td>\n",
       "      <td>7.648736e-54</td>\n",
       "      <td>8.856735e-149</td>\n",
       "      <td>1.325151e-29</td>\n",
       "    </tr>\n",
       "    <tr>\n",
       "      <th>1</th>\n",
       "      <td>8.955700e-55</td>\n",
       "      <td>1.311000e+00</td>\n",
       "      <td>4.970745e-201</td>\n",
       "      <td>7.226658e-128</td>\n",
       "      <td>4.174239e-167</td>\n",
       "      <td>1.606840e-166</td>\n",
       "      <td>1.131792e-157</td>\n",
       "      <td>1.010460e-177</td>\n",
       "      <td>3.445016e-154</td>\n",
       "      <td>0.000000e+00</td>\n",
       "      <td>...</td>\n",
       "      <td>1.323882e-85</td>\n",
       "      <td>6.697090e-121</td>\n",
       "      <td>1.210483e-150</td>\n",
       "      <td>2.483145e-10</td>\n",
       "      <td>9.356514e-38</td>\n",
       "      <td>4.952660e-117</td>\n",
       "      <td>3.601067e-34</td>\n",
       "      <td>5.900095e-01</td>\n",
       "      <td>1.822020e-255</td>\n",
       "      <td>4.003251e-05</td>\n",
       "    </tr>\n",
       "    <tr>\n",
       "      <th>2</th>\n",
       "      <td>1.251045e-111</td>\n",
       "      <td>4.970745e-201</td>\n",
       "      <td>1.311000e+00</td>\n",
       "      <td>4.471455e-26</td>\n",
       "      <td>2.764981e-04</td>\n",
       "      <td>3.053353e-27</td>\n",
       "      <td>1.043107e-11</td>\n",
       "      <td>4.706059e-06</td>\n",
       "      <td>3.701302e-07</td>\n",
       "      <td>9.654142e-33</td>\n",
       "      <td>...</td>\n",
       "      <td>1.765950e-37</td>\n",
       "      <td>2.658194e-43</td>\n",
       "      <td>6.096427e-17</td>\n",
       "      <td>8.386403e-191</td>\n",
       "      <td>3.573060e-94</td>\n",
       "      <td>2.117241e-30</td>\n",
       "      <td>4.179100e-135</td>\n",
       "      <td>3.427391e-203</td>\n",
       "      <td>4.949840e-06</td>\n",
       "      <td>3.363463e-161</td>\n",
       "    </tr>\n",
       "    <tr>\n",
       "      <th>3</th>\n",
       "      <td>2.687791e-65</td>\n",
       "      <td>7.226658e-128</td>\n",
       "      <td>4.471455e-26</td>\n",
       "      <td>1.311000e+00</td>\n",
       "      <td>6.807147e-18</td>\n",
       "      <td>1.812880e-10</td>\n",
       "      <td>6.989911e-11</td>\n",
       "      <td>1.687433e-10</td>\n",
       "      <td>5.294332e-20</td>\n",
       "      <td>1.839119e-106</td>\n",
       "      <td>...</td>\n",
       "      <td>4.779627e-06</td>\n",
       "      <td>9.005209e-49</td>\n",
       "      <td>2.822797e-39</td>\n",
       "      <td>1.338636e-116</td>\n",
       "      <td>2.322191e-38</td>\n",
       "      <td>4.666193e-01</td>\n",
       "      <td>3.374446e-61</td>\n",
       "      <td>8.249074e-132</td>\n",
       "      <td>7.752341e-48</td>\n",
       "      <td>1.521772e-95</td>\n",
       "    </tr>\n",
       "    <tr>\n",
       "      <th>4</th>\n",
       "      <td>1.349986e-103</td>\n",
       "      <td>4.174239e-167</td>\n",
       "      <td>2.764981e-04</td>\n",
       "      <td>6.807147e-18</td>\n",
       "      <td>1.311000e+00</td>\n",
       "      <td>2.007353e-15</td>\n",
       "      <td>3.052857e-04</td>\n",
       "      <td>1.116032e-03</td>\n",
       "      <td>1.639701e-01</td>\n",
       "      <td>1.902005e-53</td>\n",
       "      <td>...</td>\n",
       "      <td>3.126352e-26</td>\n",
       "      <td>4.784429e-26</td>\n",
       "      <td>2.172577e-10</td>\n",
       "      <td>3.579717e-152</td>\n",
       "      <td>1.668897e-68</td>\n",
       "      <td>2.697341e-20</td>\n",
       "      <td>1.640381e-101</td>\n",
       "      <td>6.123597e-170</td>\n",
       "      <td>3.642478e-15</td>\n",
       "      <td>3.262814e-134</td>\n",
       "    </tr>\n",
       "  </tbody>\n",
       "</table>\n",
       "<p>5 rows × 1006 columns</p>\n",
       "</div>"
      ],
      "text/plain": [
       "            0              1              2              3              4     \\\n",
       "0   1.311000e+00   8.955700e-55  1.251045e-111   2.687791e-65  1.349986e-103   \n",
       "1   8.955700e-55   1.311000e+00  4.970745e-201  7.226658e-128  4.174239e-167   \n",
       "2  1.251045e-111  4.970745e-201   1.311000e+00   4.471455e-26   2.764981e-04   \n",
       "3   2.687791e-65  7.226658e-128   4.471455e-26   1.311000e+00   6.807147e-18   \n",
       "4  1.349986e-103  4.174239e-167   2.764981e-04   6.807147e-18   1.311000e+00   \n",
       "\n",
       "            5              6              7              8              9     \\\n",
       "0  4.510886e-118  1.306299e-102  5.397857e-102  1.285619e-101  6.714154e-191   \n",
       "1  1.606840e-166  1.131792e-157  1.010460e-177  3.445016e-154   0.000000e+00   \n",
       "2   3.053353e-27   1.043107e-11   4.706059e-06   3.701302e-07   9.654142e-33   \n",
       "3   1.812880e-10   6.989911e-11   1.687433e-10   5.294332e-20  1.839119e-106   \n",
       "4   2.007353e-15   3.052857e-04   1.116032e-03   1.639701e-01   1.902005e-53   \n",
       "\n",
       "   ...          996            997            998            999   \\\n",
       "0  ...  1.395469e-39  1.933323e-123  7.718856e-113   6.768081e-81   \n",
       "1  ...  1.323882e-85  6.697090e-121  1.210483e-150   2.483145e-10   \n",
       "2  ...  1.765950e-37   2.658194e-43   6.096427e-17  8.386403e-191   \n",
       "3  ...  4.779627e-06   9.005209e-49   2.822797e-39  1.338636e-116   \n",
       "4  ...  3.126352e-26   4.784429e-26   2.172577e-10  3.579717e-152   \n",
       "\n",
       "           1000           1001           1002           1003           1004  \\\n",
       "0  3.896103e-51   1.147249e-61   4.930513e-73   7.648736e-54  8.856735e-149   \n",
       "1  9.356514e-38  4.952660e-117   3.601067e-34   5.900095e-01  1.822020e-255   \n",
       "2  3.573060e-94   2.117241e-30  4.179100e-135  3.427391e-203   4.949840e-06   \n",
       "3  2.322191e-38   4.666193e-01   3.374446e-61  8.249074e-132   7.752341e-48   \n",
       "4  1.668897e-68   2.697341e-20  1.640381e-101  6.123597e-170   3.642478e-15   \n",
       "\n",
       "            1005  \n",
       "0   1.325151e-29  \n",
       "1   4.003251e-05  \n",
       "2  3.363463e-161  \n",
       "3   1.521772e-95  \n",
       "4  3.262814e-134  \n",
       "\n",
       "[5 rows x 1006 columns]"
      ]
     },
     "execution_count": 18,
     "metadata": {},
     "output_type": "execute_result"
    }
   ],
   "source": [
    "#computing the matrix M = G + λ Id  \n",
    "\n",
    "#computing λ Id  \n",
    "Id=np.identity(len(G))\n",
    "λId=λ*Id\n",
    "\n",
    "#computing M\n",
    "M = G + λId\n",
    "print('Matrix M',M.shape)\n",
    "M.head()"
   ]
  },
  {
   "cell_type": "code",
   "execution_count": 19,
   "metadata": {},
   "outputs": [],
   "source": [
    "#computing M-inverse\n",
    "M_inv=pd.DataFrame(LA.inv(M))"
   ]
  },
  {
   "cell_type": "code",
   "execution_count": 20,
   "metadata": {},
   "outputs": [],
   "source": [
    "#resetting y_train axis\n",
    "y_train=pd.DataFrame(y_train)\n",
    "y_tr=y_train.reset_index()\n",
    "y_tr=y_tr['Y']"
   ]
  },
  {
   "cell_type": "code",
   "execution_count": 21,
   "metadata": {},
   "outputs": [],
   "source": [
    "#resetting y_test axis\n",
    "y_test=pd.DataFrame(y_test)\n",
    "y_te=y_test.reset_index()\n",
    "y_te=y_te['Y']"
   ]
  },
  {
   "cell_type": "code",
   "execution_count": 22,
   "metadata": {},
   "outputs": [],
   "source": [
    "#computing the line vector A\n",
    "A=M_inv@y_tr #the @ operator is for matrix multiplication\n",
    "A=pd.DataFrame(A)"
   ]
  },
  {
   "cell_type": "code",
   "execution_count": 23,
   "metadata": {},
   "outputs": [
    {
     "name": "stdout",
     "output_type": "stream",
     "text": [
      "Y predictions for train (1006, 1)\n"
     ]
    },
    {
     "data": {
      "text/html": [
       "<div>\n",
       "<style scoped>\n",
       "    .dataframe tbody tr th:only-of-type {\n",
       "        vertical-align: middle;\n",
       "    }\n",
       "\n",
       "    .dataframe tbody tr th {\n",
       "        vertical-align: top;\n",
       "    }\n",
       "\n",
       "    .dataframe thead th {\n",
       "        text-align: right;\n",
       "    }\n",
       "</style>\n",
       "<table border=\"1\" class=\"dataframe\">\n",
       "  <thead>\n",
       "    <tr style=\"text-align: right;\">\n",
       "      <th></th>\n",
       "      <th>0</th>\n",
       "    </tr>\n",
       "  </thead>\n",
       "  <tbody>\n",
       "    <tr>\n",
       "      <th>0</th>\n",
       "      <td>47.20</td>\n",
       "    </tr>\n",
       "    <tr>\n",
       "      <th>1</th>\n",
       "      <td>43.17</td>\n",
       "    </tr>\n",
       "    <tr>\n",
       "      <th>2</th>\n",
       "      <td>44.36</td>\n",
       "    </tr>\n",
       "    <tr>\n",
       "      <th>3</th>\n",
       "      <td>47.95</td>\n",
       "    </tr>\n",
       "    <tr>\n",
       "      <th>4</th>\n",
       "      <td>46.22</td>\n",
       "    </tr>\n",
       "    <tr>\n",
       "      <th>5</th>\n",
       "      <td>46.80</td>\n",
       "    </tr>\n",
       "    <tr>\n",
       "      <th>6</th>\n",
       "      <td>43.98</td>\n",
       "    </tr>\n",
       "    <tr>\n",
       "      <th>7</th>\n",
       "      <td>43.08</td>\n",
       "    </tr>\n",
       "    <tr>\n",
       "      <th>8</th>\n",
       "      <td>44.68</td>\n",
       "    </tr>\n",
       "    <tr>\n",
       "      <th>9</th>\n",
       "      <td>30.35</td>\n",
       "    </tr>\n",
       "    <tr>\n",
       "      <th>10</th>\n",
       "      <td>44.02</td>\n",
       "    </tr>\n",
       "    <tr>\n",
       "      <th>11</th>\n",
       "      <td>45.23</td>\n",
       "    </tr>\n",
       "    <tr>\n",
       "      <th>12</th>\n",
       "      <td>37.58</td>\n",
       "    </tr>\n",
       "    <tr>\n",
       "      <th>13</th>\n",
       "      <td>48.11</td>\n",
       "    </tr>\n",
       "    <tr>\n",
       "      <th>14</th>\n",
       "      <td>39.67</td>\n",
       "    </tr>\n",
       "  </tbody>\n",
       "</table>\n",
       "</div>"
      ],
      "text/plain": [
       "        0\n",
       "0   47.20\n",
       "1   43.17\n",
       "2   44.36\n",
       "3   47.95\n",
       "4   46.22\n",
       "5   46.80\n",
       "6   43.98\n",
       "7   43.08\n",
       "8   44.68\n",
       "9   30.35\n",
       "10  44.02\n",
       "11  45.23\n",
       "12  37.58\n",
       "13  48.11\n",
       "14  39.67"
      ]
     },
     "execution_count": 23,
     "metadata": {},
     "output_type": "execute_result"
    }
   ],
   "source": [
    "#computing V(x) and pred(x)\n",
    "def pred(x):\n",
    "    return A.T@V_x.T\n",
    "pred_x=[]\n",
    "for i in range(len(X_train)):\n",
    "    x=pd.DataFrame(X_train.iloc[i].tolist()).T\n",
    "    V_x = distance_matrix(x,X_train)\n",
    "    V_x = pd.DataFrame(np.exp(-gamma1[0]*(V_x**2)))\n",
    "    pred_x.append(pred(x))\n",
    "pred_x_tr=pd.DataFrame(pred_x)\n",
    "print('Y predictions for train',pred_x_tr.shape)\n",
    "round((pred_x_tr),2).head(15)"
   ]
  },
  {
   "cell_type": "code",
   "execution_count": 24,
   "metadata": {},
   "outputs": [
    {
     "name": "stdout",
     "output_type": "stream",
     "text": [
      "RMSE of train: 3.705\n"
     ]
    }
   ],
   "source": [
    "#computing RMSEtrain\n",
    "MSEtrain=mean_squared_error(pred_x_tr, y_train)\n",
    "RMSEtrain=round((np.sqrt(MSEtrain)),3)\n",
    "print('RMSE of train:',RMSEtrain)"
   ]
  },
  {
   "cell_type": "markdown",
   "metadata": {},
   "source": [
    "# computations for test, calculating RMSEtest"
   ]
  },
  {
   "cell_type": "code",
   "execution_count": 25,
   "metadata": {},
   "outputs": [
    {
     "name": "stdout",
     "output_type": "stream",
     "text": [
      "Y predictions for test (252, 1)\n"
     ]
    },
    {
     "data": {
      "text/html": [
       "<div>\n",
       "<style scoped>\n",
       "    .dataframe tbody tr th:only-of-type {\n",
       "        vertical-align: middle;\n",
       "    }\n",
       "\n",
       "    .dataframe tbody tr th {\n",
       "        vertical-align: top;\n",
       "    }\n",
       "\n",
       "    .dataframe thead th {\n",
       "        text-align: right;\n",
       "    }\n",
       "</style>\n",
       "<table border=\"1\" class=\"dataframe\">\n",
       "  <thead>\n",
       "    <tr style=\"text-align: right;\">\n",
       "      <th></th>\n",
       "      <th>0</th>\n",
       "    </tr>\n",
       "  </thead>\n",
       "  <tbody>\n",
       "    <tr>\n",
       "      <th>0</th>\n",
       "      <td>33.92</td>\n",
       "    </tr>\n",
       "    <tr>\n",
       "      <th>1</th>\n",
       "      <td>40.40</td>\n",
       "    </tr>\n",
       "    <tr>\n",
       "      <th>2</th>\n",
       "      <td>29.44</td>\n",
       "    </tr>\n",
       "    <tr>\n",
       "      <th>3</th>\n",
       "      <td>44.27</td>\n",
       "    </tr>\n",
       "    <tr>\n",
       "      <th>4</th>\n",
       "      <td>9.03</td>\n",
       "    </tr>\n",
       "    <tr>\n",
       "      <th>5</th>\n",
       "      <td>33.73</td>\n",
       "    </tr>\n",
       "    <tr>\n",
       "      <th>6</th>\n",
       "      <td>39.97</td>\n",
       "    </tr>\n",
       "    <tr>\n",
       "      <th>7</th>\n",
       "      <td>38.22</td>\n",
       "    </tr>\n",
       "    <tr>\n",
       "      <th>8</th>\n",
       "      <td>30.88</td>\n",
       "    </tr>\n",
       "    <tr>\n",
       "      <th>9</th>\n",
       "      <td>47.01</td>\n",
       "    </tr>\n",
       "    <tr>\n",
       "      <th>10</th>\n",
       "      <td>43.38</td>\n",
       "    </tr>\n",
       "    <tr>\n",
       "      <th>11</th>\n",
       "      <td>47.00</td>\n",
       "    </tr>\n",
       "    <tr>\n",
       "      <th>12</th>\n",
       "      <td>43.86</td>\n",
       "    </tr>\n",
       "    <tr>\n",
       "      <th>13</th>\n",
       "      <td>27.59</td>\n",
       "    </tr>\n",
       "    <tr>\n",
       "      <th>14</th>\n",
       "      <td>21.07</td>\n",
       "    </tr>\n",
       "  </tbody>\n",
       "</table>\n",
       "</div>"
      ],
      "text/plain": [
       "        0\n",
       "0   33.92\n",
       "1   40.40\n",
       "2   29.44\n",
       "3   44.27\n",
       "4    9.03\n",
       "5   33.73\n",
       "6   39.97\n",
       "7   38.22\n",
       "8   30.88\n",
       "9   47.01\n",
       "10  43.38\n",
       "11  47.00\n",
       "12  43.86\n",
       "13  27.59\n",
       "14  21.07"
      ]
     },
     "execution_count": 25,
     "metadata": {},
     "output_type": "execute_result"
    }
   ],
   "source": [
    "#computing V(x) and pred(x)\n",
    "pred_x=[]\n",
    "for i in range(len(X_test)):\n",
    "    x=pd.DataFrame(X_test.iloc[i].tolist()).T\n",
    "    V_x = distance_matrix(x,X_train)\n",
    "    V_x = pd.DataFrame(np.exp(-gamma1[0]*(V_x**2)))\n",
    "    pred_x.append(pred(x))\n",
    "pred_x_te=pd.DataFrame(pred_x)\n",
    "print('Y predictions for test',pred_x_te.shape)\n",
    "round((pred_x_te),2).head(15)"
   ]
  },
  {
   "cell_type": "code",
   "execution_count": 26,
   "metadata": {},
   "outputs": [
    {
     "name": "stdout",
     "output_type": "stream",
     "text": [
      "RMSE of test: 11.275\n"
     ]
    }
   ],
   "source": [
    "#computing RMSEtest\n",
    "MSEtest=mean_squared_error(pred_x_te, y_test)\n",
    "RMSEtest=round((np.sqrt(MSEtest)),3)\n",
    "print('RMSE of test:',RMSEtest)"
   ]
  },
  {
   "cell_type": "code",
   "execution_count": 27,
   "metadata": {},
   "outputs": [
    {
     "name": "stdout",
     "output_type": "stream",
     "text": [
      "RMSE ratio of train: 0.084\n",
      "RMSE ratio of test: 0.2594\n"
     ]
    }
   ],
   "source": [
    "#comparing RMSE of train and test\n",
    "avy_tr=abs(y_train).mean()\n",
    "avy_te=abs(y_test).mean()\n",
    "rat_tr=round((RMSEtrain/avy_tr[0]),4) \n",
    "rat_te=round((RMSEtest/avy_te[0]),4)\n",
    "\n",
    "print('RMSE ratio of train:',rat_tr)\n",
    "print('RMSE ratio of test:',rat_te)"
   ]
  },
  {
   "cell_type": "markdown",
   "metadata": {},
   "source": [
    "The lambda value is taken at a 95% explained variation of the train data. The RMSE ratio for the training set is quite small. This means for a gamma of 0.07, and lambda of 0.311, our model built does a good job in predicting our target variable results with low average error, with respect to the average of the training set. The RMSE ratio for the test is larger than the train ratio, but still has a decent average error. Although it is ok for our train to have better predictions than out test, we want to produce as little average error as possible for both of them, with stable performance when going from train to test, in order gain more confidence about our predictions for any new cases. Hence, a tuning for the best pair of parameters needs to be performed."
   ]
  },
  {
   "cell_type": "markdown",
   "metadata": {},
   "source": [
    "# Question 3: Improving the results through step by step tuning"
   ]
  },
  {
   "cell_type": "code",
   "execution_count": 28,
   "metadata": {
    "scrolled": true
   },
   "outputs": [
    {
     "name": "stdout",
     "output_type": "stream",
     "text": [
      "gamma values: [1e-05, 2e-05, 5e-05, 0.0001, 0.0005]\n",
      "\n",
      " Ratios of RMSE for train: [0.066, 0.061, 0.056, 0.05, 0.036]\n",
      "\n",
      " Ratios of RMSE for test: [0.067, 0.062, 0.057, 0.052, 0.039]\n"
     ]
    }
   ],
   "source": [
    "#optimizing RMSE \n",
    "\n",
    "#tuning with gamma values\n",
    "gamma=[0.00001,0.00002,0.00005,0.0001,0.0005]\n",
    "rat_tr=[]\n",
    "rat_te=[]\n",
    "print('gamma values:',gamma)\n",
    "\n",
    "for i in gamma:\n",
    "    G = distance_matrix(X_train,X_train)\n",
    "    G = pd.DataFrame(np.exp(-i*(G**2)))\n",
    "    eigval, eigvec=LA.eig(G)\n",
    "    Id=np.identity(len(G))\n",
    "    λId=λ*Id\n",
    "    M=G+λId\n",
    "    M_inv=pd.DataFrame(LA.inv(M))\n",
    "    A=M_inv@y_tr \n",
    "    A=pd.DataFrame(A)\n",
    "    \n",
    "    predtr_x=[]\n",
    "    for j in range(len(X_train)):\n",
    "        x=pd.DataFrame(X_train.iloc[j].tolist()).T\n",
    "        V_x = distance_matrix(x,X_train)\n",
    "        V_x = pd.DataFrame(np.exp(-i*(V_x**2)))\n",
    "        predtr_x.append(pred(x))\n",
    "    pred_x_tr=pd.DataFrame(predtr_x)\n",
    "    \n",
    "    predte_x=[]\n",
    "    for k in range(len(X_test)):\n",
    "        x=pd.DataFrame(X_test.iloc[k].tolist()).T\n",
    "        V_x = distance_matrix(x,X_train)\n",
    "        V_x = pd.DataFrame(np.exp(-i*(V_x**2)))\n",
    "        predte_x.append(pred(x))\n",
    "    pred_x_te=pd.DataFrame(predte_x)\n",
    "    \n",
    "    MSEtrain=mean_squared_error(pred_x_tr, y_train)\n",
    "    RMSEtrain=round((np.sqrt(MSEtrain)),3)\n",
    "    rat_tr.append(round((RMSEtrain/avy_tr[0]),3))\n",
    "    \n",
    "    MSEtest=mean_squared_error(pred_x_te, y_test)\n",
    "    RMSEtest=round((np.sqrt(MSEtest)),3)\n",
    "    rat_te.append(round((RMSEtest/avy_te[0]),3))\n",
    "    \n",
    "print('\\n','Ratios of RMSE for train:',rat_tr)\n",
    "print('\\n','Ratios of RMSE for test:',rat_te)"
   ]
  },
  {
   "cell_type": "code",
   "execution_count": 29,
   "metadata": {},
   "outputs": [
    {
     "name": "stdout",
     "output_type": "stream",
     "text": [
      "lambda values: [1.5, 2, 2.5, 3, 3.5]\n",
      "\n",
      " Ratio of RMSE for train: [0.255, 0.304, 0.346, 0.382, 0.414]\n",
      "\n",
      " Ratio of RMSE for test: [0.387, 0.426, 0.461, 0.491, 0.517]\n"
     ]
    }
   ],
   "source": [
    "#tuning with lambda values\n",
    "λs=[1.5,2,2.5,3,3.5]\n",
    "rat_tr=[]\n",
    "rat_te=[]\n",
    "print('lambda values:',λs)\n",
    "\n",
    "for i in λs:\n",
    "    G = distance_matrix(X_train,X_train)\n",
    "    G = pd.DataFrame(np.exp(-gamma1[0]*(G**2)))\n",
    "    eigval, eigvec=LA.eig(G)\n",
    "    Id=np.identity(len(G))\n",
    "    λId=i*Id\n",
    "    M = G + λId\n",
    "    M_inv=pd.DataFrame(LA.inv(M))\n",
    "    A=M_inv@y_tr \n",
    "    A=pd.DataFrame(A)\n",
    "    \n",
    "    predtr_x=[]\n",
    "    for j in range(len(X_train)):\n",
    "        x=pd.DataFrame(X_train.iloc[j].tolist()).T\n",
    "        V_x = distance_matrix(x,X_train)\n",
    "        V_x = pd.DataFrame(np.exp(-gamma1[0]*(V_x**2)))\n",
    "        predtr_x.append(pred(x))\n",
    "    pred_x_tr=pd.DataFrame(predtr_x)\n",
    "    \n",
    "    predte_x=[]\n",
    "    for k in range(len(X_test)):\n",
    "        x=pd.DataFrame(X_test.iloc[k].tolist()).T\n",
    "        V_x = distance_matrix(x,X_train)\n",
    "        V_x = pd.DataFrame(np.exp(-gamma1[0]*(V_x**2)))\n",
    "        predte_x.append(pred(x))\n",
    "    pred_x_te=pd.DataFrame(predte_x)\n",
    "    \n",
    "    MSEtrain=mean_squared_error(pred_x_tr, y_train)\n",
    "    RMSEtrain=round((np.sqrt(MSEtrain)),3)\n",
    "    rat_tr.append(round((RMSEtrain/avy_tr[0]),3))\n",
    "    \n",
    "    MSEtest=mean_squared_error(pred_x_te, y_test)\n",
    "    RMSEtest=round((np.sqrt(MSEtest)),3)\n",
    "    rat_te.append(round((RMSEtest/avy_te[0]),3))\n",
    "    \n",
    "print('\\n','Ratio of RMSE for train:',rat_tr)\n",
    "print('\\n','Ratio of RMSE for test:',rat_te)"
   ]
  },
  {
   "cell_type": "code",
   "execution_count": 30,
   "metadata": {
    "scrolled": false
   },
   "outputs": [
    {
     "name": "stdout",
     "output_type": "stream",
     "text": [
      "gamma values: [1e-05, 2e-05, 5e-05, 0.0001, 0.0005]\n",
      "lambda values: [1.5, 2, 2.5, 3, 3.5]\n",
      "\n",
      " Ratios of RMSE for train: \n",
      "         0\n",
      "0   0.078\n",
      "1   0.081\n",
      "2   0.083\n",
      "3   0.085\n",
      "4   0.086\n",
      "5   0.070\n",
      "6   0.073\n",
      "7   0.074\n",
      "8   0.076\n",
      "9   0.078\n",
      "10  0.065\n",
      "11  0.067\n",
      "12  0.068\n",
      "13  0.069\n",
      "14  0.070\n",
      "15  0.062\n",
      "16  0.064\n",
      "17  0.066\n",
      "18  0.068\n",
      "19  0.069\n",
      "20  0.049\n",
      "21  0.052\n",
      "22  0.056\n",
      "23  0.058\n",
      "24  0.061\n",
      "\n",
      " Ratios of RMSE for test: \n",
      "         0\n",
      "0   0.080\n",
      "1   0.083\n",
      "2   0.085\n",
      "3   0.087\n",
      "4   0.089\n",
      "5   0.072\n",
      "6   0.074\n",
      "7   0.076\n",
      "8   0.078\n",
      "9   0.079\n",
      "10  0.067\n",
      "11  0.069\n",
      "12  0.070\n",
      "13  0.071\n",
      "14  0.072\n",
      "15  0.064\n",
      "16  0.067\n",
      "17  0.069\n",
      "18  0.071\n",
      "19  0.072\n",
      "20  0.052\n",
      "21  0.056\n",
      "22  0.059\n",
      "23  0.063\n",
      "24  0.066\n"
     ]
    }
   ],
   "source": [
    "#tuning with gamma and lambda values \n",
    "\n",
    "gamma=[0.00001,0.00002,0.00005,0.0001,0.0005]\n",
    "λs=[1.5,2,2.5,3,3.5]\n",
    "rat_tr=[]\n",
    "rat_te=[]\n",
    "print('gamma values:',gamma)\n",
    "print('lambda values:',λs)\n",
    "\n",
    "for i in gamma:\n",
    "    G = distance_matrix(X_train,X_train)\n",
    "    G = pd.DataFrame(np.exp(-i*(G**2)))\n",
    "    eigval, eigvec=LA.eig(G)\n",
    "    for j in λs:\n",
    "        Id=np.identity(len(G))\n",
    "        λId=j*Id\n",
    "        M = G + λId\n",
    "        M_inv=pd.DataFrame(LA.inv(M))\n",
    "        A=M_inv@y_tr \n",
    "        A=pd.DataFrame(A)\n",
    "        \n",
    "        predtr_x=[]\n",
    "        for k in range(len(X_train)):\n",
    "            x=pd.DataFrame(X_train.iloc[k].tolist()).T\n",
    "            V_x = distance_matrix(x,X_train)\n",
    "            V_x = pd.DataFrame(np.exp(-i*(V_x**2)))\n",
    "            predtr_x.append(pred(x))\n",
    "        pred_x_tr=pd.DataFrame(predtr_x)\n",
    "        \n",
    "        predte_x=[]\n",
    "        for g in range(len(X_test)):\n",
    "            x=pd.DataFrame(X_test.iloc[g].tolist()).T\n",
    "            V_x = distance_matrix(x,X_train)\n",
    "            V_x = pd.DataFrame(np.exp(-i*(V_x**2)))\n",
    "            predte_x.append(pred(x))\n",
    "        pred_x_te=pd.DataFrame(predte_x)\n",
    "        \n",
    "        MSEtrain=mean_squared_error(pred_x_tr, y_train)\n",
    "        RMSEtrain=round((np.sqrt(MSEtrain)),3)\n",
    "        rat_tr.append(round((RMSEtrain/avy_tr[0]),4))\n",
    "        \n",
    "        MSEtest=mean_squared_error(pred_x_te, y_test)\n",
    "        RMSEtest=round((np.sqrt(MSEtest)),3)\n",
    "        rat_te.append(round((RMSEtest/avy_te[0]),4))\n",
    "rat_tr=pd.DataFrame(rat_tr)\n",
    "rat_te=pd.DataFrame(rat_te)        \n",
    "print('\\n','Ratios of RMSE for train:','\\n',round((rat_tr),3))\n",
    "print('\\n','Ratios of RMSE for test:','\\n',round((rat_te),3))"
   ]
  },
  {
   "cell_type": "code",
   "execution_count": 31,
   "metadata": {},
   "outputs": [
    {
     "name": "stdout",
     "output_type": "stream",
     "text": [
      "Identifying best choice of parameters by smallest difference in RMSE ratio between prediction and actual\n",
      "\n",
      " [0.0017, 0.0019, 0.0021, 0.0023, 0.0024, 0.0012, 0.0013, 0.0015, 0.0015, 0.0015, 0.0022, 0.0022, 0.0021, 0.002, 0.0019, 0.0029, 0.0029, 0.0031, 0.0031, 0.0031, 0.0034, 0.0036, 0.0039, 0.0042, 0.0044] \n",
      "\n",
      "Sorted indices for RMSE difference\n"
     ]
    },
    {
     "data": {
      "text/plain": [
       "0      5\n",
       "1      6\n",
       "2      9\n",
       "3      7\n",
       "4      8\n",
       "5      0\n",
       "6      1\n",
       "7     14\n",
       "8     13\n",
       "9     12\n",
       "10     2\n",
       "11    10\n",
       "12    11\n",
       "13     3\n",
       "14     4\n",
       "15    15\n",
       "16    16\n",
       "17    17\n",
       "18    18\n",
       "19    19\n",
       "20    20\n",
       "21    21\n",
       "22    22\n",
       "23    23\n",
       "24    24\n",
       "dtype: int64"
      ]
     },
     "execution_count": 31,
     "metadata": {},
     "output_type": "execute_result"
    }
   ],
   "source": [
    "#identifying best choice of parameters\n",
    "diff=[]\n",
    "for i in range(len(rat_te)):\n",
    "    diff.append(round((abs(rat_tr.iloc[i][0]-rat_te.iloc[i][0])),4))\n",
    "print('Identifying best choice of parameters by smallest difference in RMSE ratio between prediction and actual')\n",
    "print('\\n',diff,'\\n')\n",
    "diff=pd.Series(diff)\n",
    "print('Sorted indices for RMSE difference')\n",
    "diff.argsort()"
   ]
  },
  {
   "cell_type": "code",
   "execution_count": 32,
   "metadata": {},
   "outputs": [
    {
     "name": "stdout",
     "output_type": "stream",
     "text": [
      "Best choice of parameters: \n",
      " gamma: 2e-05 \n",
      " lambda: 1.5 \n",
      "\n",
      "RMSE ratio for train: 0.0705\n",
      "RMSE ratio for test: 0.0717\n"
     ]
    }
   ],
   "source": [
    "#Best pair\n",
    "print('Best choice of parameters:','\\n','gamma:',gamma[1],'\\n','lambda:',λs[0],'\\n')\n",
    "print('RMSE ratio for train:',rat_tr.iloc[5][0])\n",
    "print('RMSE ratio for test:',rat_te.iloc[5][0])\n",
    "gamma2=gamma[1]\n",
    "λ2=λs[0]"
   ]
  },
  {
   "cell_type": "markdown",
   "metadata": {},
   "source": [
    "The RMSE ratios for train and test are lower than the previously computed values in question 2, and are more stable."
   ]
  },
  {
   "cell_type": "code",
   "execution_count": 33,
   "metadata": {},
   "outputs": [
    {
     "name": "stdout",
     "output_type": "stream",
     "text": [
      "Identifying the 10 cases with worst accuracy\n"
     ]
    },
    {
     "data": {
      "text/html": [
       "<div>\n",
       "<style scoped>\n",
       "    .dataframe tbody tr th:only-of-type {\n",
       "        vertical-align: middle;\n",
       "    }\n",
       "\n",
       "    .dataframe tbody tr th {\n",
       "        vertical-align: top;\n",
       "    }\n",
       "\n",
       "    .dataframe thead th {\n",
       "        text-align: right;\n",
       "    }\n",
       "</style>\n",
       "<table border=\"1\" class=\"dataframe\">\n",
       "  <thead>\n",
       "    <tr style=\"text-align: right;\">\n",
       "      <th></th>\n",
       "      <th>BP</th>\n",
       "      <th>Exxon</th>\n",
       "      <th>Chevron</th>\n",
       "      <th>Shell</th>\n",
       "      <th>Schlum</th>\n",
       "      <th>TOTAL</th>\n",
       "      <th>Equinor</th>\n",
       "      <th>Petrobas</th>\n",
       "      <th>Enterp</th>\n",
       "      <th>CNOOC</th>\n",
       "    </tr>\n",
       "  </thead>\n",
       "  <tbody>\n",
       "    <tr>\n",
       "      <th>11/13/2018</th>\n",
       "      <td>39.81</td>\n",
       "      <td>78.00</td>\n",
       "      <td>115.35</td>\n",
       "      <td>115.35</td>\n",
       "      <td>47.34</td>\n",
       "      <td>54.85</td>\n",
       "      <td>23.58</td>\n",
       "      <td>13.90</td>\n",
       "      <td>26.13</td>\n",
       "      <td>163.12</td>\n",
       "    </tr>\n",
       "    <tr>\n",
       "      <th>7/26/2017</th>\n",
       "      <td>34.84</td>\n",
       "      <td>80.37</td>\n",
       "      <td>105.12</td>\n",
       "      <td>105.12</td>\n",
       "      <td>66.99</td>\n",
       "      <td>50.39</td>\n",
       "      <td>17.87</td>\n",
       "      <td>8.63</td>\n",
       "      <td>27.60</td>\n",
       "      <td>112.92</td>\n",
       "    </tr>\n",
       "    <tr>\n",
       "      <th>12/24/2018</th>\n",
       "      <td>36.65</td>\n",
       "      <td>65.51</td>\n",
       "      <td>100.99</td>\n",
       "      <td>100.99</td>\n",
       "      <td>35.19</td>\n",
       "      <td>50.22</td>\n",
       "      <td>20.15</td>\n",
       "      <td>12.10</td>\n",
       "      <td>23.51</td>\n",
       "      <td>143.49</td>\n",
       "    </tr>\n",
       "    <tr>\n",
       "      <th>11/27/2015</th>\n",
       "      <td>34.83</td>\n",
       "      <td>81.23</td>\n",
       "      <td>90.37</td>\n",
       "      <td>90.37</td>\n",
       "      <td>77.33</td>\n",
       "      <td>49.23</td>\n",
       "      <td>15.36</td>\n",
       "      <td>4.93</td>\n",
       "      <td>25.64</td>\n",
       "      <td>107.83</td>\n",
       "    </tr>\n",
       "    <tr>\n",
       "      <th>12/8/2015</th>\n",
       "      <td>31.27</td>\n",
       "      <td>74.63</td>\n",
       "      <td>86.44</td>\n",
       "      <td>86.44</td>\n",
       "      <td>71.50</td>\n",
       "      <td>46.12</td>\n",
       "      <td>14.09</td>\n",
       "      <td>4.76</td>\n",
       "      <td>22.65</td>\n",
       "      <td>106.06</td>\n",
       "    </tr>\n",
       "    <tr>\n",
       "      <th>11/13/2015</th>\n",
       "      <td>33.38</td>\n",
       "      <td>78.10</td>\n",
       "      <td>88.68</td>\n",
       "      <td>88.68</td>\n",
       "      <td>76.14</td>\n",
       "      <td>48.05</td>\n",
       "      <td>15.00</td>\n",
       "      <td>4.57</td>\n",
       "      <td>25.83</td>\n",
       "      <td>105.37</td>\n",
       "    </tr>\n",
       "    <tr>\n",
       "      <th>11/10/2015</th>\n",
       "      <td>34.77</td>\n",
       "      <td>82.35</td>\n",
       "      <td>93.23</td>\n",
       "      <td>93.23</td>\n",
       "      <td>78.77</td>\n",
       "      <td>49.58</td>\n",
       "      <td>16.14</td>\n",
       "      <td>4.93</td>\n",
       "      <td>26.75</td>\n",
       "      <td>110.70</td>\n",
       "    </tr>\n",
       "    <tr>\n",
       "      <th>11/3/2015</th>\n",
       "      <td>37.23</td>\n",
       "      <td>86.85</td>\n",
       "      <td>98.14</td>\n",
       "      <td>98.14</td>\n",
       "      <td>81.52</td>\n",
       "      <td>50.75</td>\n",
       "      <td>17.06</td>\n",
       "      <td>5.55</td>\n",
       "      <td>28.32</td>\n",
       "      <td>116.15</td>\n",
       "    </tr>\n",
       "    <tr>\n",
       "      <th>12/27/2018</th>\n",
       "      <td>37.73</td>\n",
       "      <td>68.94</td>\n",
       "      <td>109.32</td>\n",
       "      <td>109.32</td>\n",
       "      <td>36.33</td>\n",
       "      <td>52.35</td>\n",
       "      <td>21.03</td>\n",
       "      <td>12.80</td>\n",
       "      <td>24.24</td>\n",
       "      <td>150.11</td>\n",
       "    </tr>\n",
       "    <tr>\n",
       "      <th>12/31/2018</th>\n",
       "      <td>37.92</td>\n",
       "      <td>68.19</td>\n",
       "      <td>108.79</td>\n",
       "      <td>108.79</td>\n",
       "      <td>36.08</td>\n",
       "      <td>52.18</td>\n",
       "      <td>21.17</td>\n",
       "      <td>13.01</td>\n",
       "      <td>24.59</td>\n",
       "      <td>152.45</td>\n",
       "    </tr>\n",
       "  </tbody>\n",
       "</table>\n",
       "</div>"
      ],
      "text/plain": [
       "               BP  Exxon  Chevron   Shell  Schlum  TOTAL  Equinor  Petrobas  \\\n",
       "11/13/2018  39.81  78.00   115.35  115.35   47.34  54.85    23.58     13.90   \n",
       "7/26/2017   34.84  80.37   105.12  105.12   66.99  50.39    17.87      8.63   \n",
       "12/24/2018  36.65  65.51   100.99  100.99   35.19  50.22    20.15     12.10   \n",
       "11/27/2015  34.83  81.23    90.37   90.37   77.33  49.23    15.36      4.93   \n",
       "12/8/2015   31.27  74.63    86.44   86.44   71.50  46.12    14.09      4.76   \n",
       "11/13/2015  33.38  78.10    88.68   88.68   76.14  48.05    15.00      4.57   \n",
       "11/10/2015  34.77  82.35    93.23   93.23   78.77  49.58    16.14      4.93   \n",
       "11/3/2015   37.23  86.85    98.14   98.14   81.52  50.75    17.06      5.55   \n",
       "12/27/2018  37.73  68.94   109.32  109.32   36.33  52.35    21.03     12.80   \n",
       "12/31/2018  37.92  68.19   108.79  108.79   36.08  52.18    21.17     13.01   \n",
       "\n",
       "            Enterp   CNOOC  \n",
       "11/13/2018   26.13  163.12  \n",
       "7/26/2017    27.60  112.92  \n",
       "12/24/2018   23.51  143.49  \n",
       "11/27/2015   25.64  107.83  \n",
       "12/8/2015    22.65  106.06  \n",
       "11/13/2015   25.83  105.37  \n",
       "11/10/2015   26.75  110.70  \n",
       "11/3/2015    28.32  116.15  \n",
       "12/27/2018   24.24  150.11  \n",
       "12/31/2018   24.59  152.45  "
      ]
     },
     "execution_count": 33,
     "metadata": {},
     "output_type": "execute_result"
    }
   ],
   "source": [
    "#identifying the 10 cases with worst accuracy\n",
    "G = distance_matrix(X_train,X_train)\n",
    "G = pd.DataFrame(np.exp(-gamma2*(G**2)))\n",
    "eigval, eigvec=LA.eig(G)\n",
    "Id=np.identity(len(G))\n",
    "λId=λ2*Id\n",
    "M = G + λId\n",
    "M_inv=pd.DataFrame(LA.inv(M))\n",
    "A=M_inv@y_tr \n",
    "A=pd.DataFrame(A)\n",
    "\n",
    "predte_x=[]\n",
    "for k in range(len(X_test)):\n",
    "    x=pd.DataFrame(X_test.iloc[k].tolist()).T\n",
    "    V_x = distance_matrix(x,X_train)\n",
    "    V_x = pd.DataFrame(np.exp(-gamma2*(V_x**2)))\n",
    "    predte_x.append(pred(x))\n",
    "pred_x_te=pd.DataFrame(predte_x)\n",
    "pred_x_te.columns=['Y']\n",
    "\n",
    "y_te=pd.DataFrame(y_te)\n",
    "accuracy=[]\n",
    "for i in range(len(pred_x_te)):\n",
    "    accuracy.append(round((abs(pred_x_te.iloc[i][0]-y_te.iloc[i][0])),3))\n",
    "index_sort=(pd.Series(accuracy)).argsort()\n",
    "\n",
    "v=index_sort[-10:]\n",
    "v=v.tolist()\n",
    "\n",
    "print('Identifying the 10 cases with worst accuracy')\n",
    "cases_10=pd.concat((X_test.iloc[v[0]],X_test.iloc[v[1]],X_test.iloc[v[2]],X_test.iloc[v[3]],X_test.iloc[v[4]],\n",
    "                    X_test.iloc[v[5]],X_test.iloc[v[6]],X_test.iloc[v[7]],X_test.iloc[v[8]],X_test.iloc[v[9]]),axis=1)\n",
    "cases_10=pd.DataFrame(cases_10.T)\n",
    "cases_10=cases_10.drop('Dummy',axis=1)\n",
    "round((cases_10),2)"
   ]
  },
  {
   "cell_type": "code",
   "execution_count": 34,
   "metadata": {
    "scrolled": true
   },
   "outputs": [
    {
     "name": "stdout",
     "output_type": "stream",
     "text": [
      "PCA on 10 worst case predictions on TEST, on 3 principal components\n"
     ]
    },
    {
     "data": {
      "text/html": [
       "<div>\n",
       "<style scoped>\n",
       "    .dataframe tbody tr th:only-of-type {\n",
       "        vertical-align: middle;\n",
       "    }\n",
       "\n",
       "    .dataframe tbody tr th {\n",
       "        vertical-align: top;\n",
       "    }\n",
       "\n",
       "    .dataframe thead th {\n",
       "        text-align: right;\n",
       "    }\n",
       "</style>\n",
       "<table border=\"1\" class=\"dataframe\">\n",
       "  <thead>\n",
       "    <tr style=\"text-align: right;\">\n",
       "      <th></th>\n",
       "      <th>0</th>\n",
       "      <th>1</th>\n",
       "      <th>2</th>\n",
       "    </tr>\n",
       "  </thead>\n",
       "  <tbody>\n",
       "    <tr>\n",
       "      <th>11/13/2018</th>\n",
       "      <td>-178.84</td>\n",
       "      <td>-116.85</td>\n",
       "      <td>24.87</td>\n",
       "    </tr>\n",
       "    <tr>\n",
       "      <th>7/26/2017</th>\n",
       "      <td>-140.92</td>\n",
       "      <td>-124.96</td>\n",
       "      <td>36.37</td>\n",
       "    </tr>\n",
       "    <tr>\n",
       "      <th>12/24/2018</th>\n",
       "      <td>-159.77</td>\n",
       "      <td>-98.21</td>\n",
       "      <td>19.03</td>\n",
       "    </tr>\n",
       "    <tr>\n",
       "      <th>11/27/2015</th>\n",
       "      <td>-122.93</td>\n",
       "      <td>-129.04</td>\n",
       "      <td>37.60</td>\n",
       "    </tr>\n",
       "    <tr>\n",
       "      <th>12/8/2015</th>\n",
       "      <td>-117.99</td>\n",
       "      <td>-118.92</td>\n",
       "      <td>34.96</td>\n",
       "    </tr>\n",
       "    <tr>\n",
       "      <th>11/13/2015</th>\n",
       "      <td>-120.13</td>\n",
       "      <td>-125.94</td>\n",
       "      <td>36.14</td>\n",
       "    </tr>\n",
       "    <tr>\n",
       "      <th>11/10/2015</th>\n",
       "      <td>-126.20</td>\n",
       "      <td>-131.50</td>\n",
       "      <td>37.87</td>\n",
       "    </tr>\n",
       "    <tr>\n",
       "      <th>11/3/2015</th>\n",
       "      <td>-132.87</td>\n",
       "      <td>-137.71</td>\n",
       "      <td>39.01</td>\n",
       "    </tr>\n",
       "    <tr>\n",
       "      <th>12/27/2018</th>\n",
       "      <td>-169.63</td>\n",
       "      <td>-102.67</td>\n",
       "      <td>21.06</td>\n",
       "    </tr>\n",
       "    <tr>\n",
       "      <th>12/31/2018</th>\n",
       "      <td>-170.40</td>\n",
       "      <td>-102.32</td>\n",
       "      <td>19.84</td>\n",
       "    </tr>\n",
       "  </tbody>\n",
       "</table>\n",
       "</div>"
      ],
      "text/plain": [
       "                 0       1      2\n",
       "11/13/2018 -178.84 -116.85  24.87\n",
       "7/26/2017  -140.92 -124.96  36.37\n",
       "12/24/2018 -159.77  -98.21  19.03\n",
       "11/27/2015 -122.93 -129.04  37.60\n",
       "12/8/2015  -117.99 -118.92  34.96\n",
       "11/13/2015 -120.13 -125.94  36.14\n",
       "11/10/2015 -126.20 -131.50  37.87\n",
       "11/3/2015  -132.87 -137.71  39.01\n",
       "12/27/2018 -169.63 -102.67  21.06\n",
       "12/31/2018 -170.40 -102.32  19.84"
      ]
     },
     "execution_count": 34,
     "metadata": {},
     "output_type": "execute_result"
    }
   ],
   "source": [
    "#PCA on 10 worst case predictions on TEST\n",
    "import numpy as np\n",
    "import matplotlib.pyplot as plt\n",
    "from sklearn.decomposition import PCA\n",
    "from sklearn.preprocessing import StandardScaler\n",
    "%matplotlib inline\n",
    "\n",
    "corr_matrix=X_train.drop('Dummy',axis=1).corr()\n",
    "corr_matrix\n",
    "eigval_1,eigvec_1=LA.eig(corr_matrix)\n",
    "scores_3=cases_10.dot(eigvec_1[:,:3])\n",
    "print('PCA on 10 worst case predictions on TEST, on 3 principal components')\n",
    "round((scores_3),2)"
   ]
  },
  {
   "cell_type": "code",
   "execution_count": 35,
   "metadata": {},
   "outputs": [
    {
     "name": "stdout",
     "output_type": "stream",
     "text": [
      "\n",
      "\n"
     ]
    },
    {
     "data": {
      "image/png": "[encoded data removed]",
      "text/plain": [
       "<Figure size 864x576 with 1 Axes>"
      ]
     },
     "metadata": {
      "needs_background": "light"
     },
     "output_type": "display_data"
    }
   ],
   "source": [
    "from mpl_toolkits import mplot3d\n",
    "\n",
    "fig = plt.figure(figsize=(12,8))\n",
    "ax = plt.axes(projection='3d')\n",
    "ax.scatter(scores_3.iloc[:][0], scores_3.iloc[:][1], scores_3.iloc[:][2], zdir='z', s=20, c='red', depthshade=True)\n",
    "ax.set_xlabel('Principal Component 1')\n",
    "ax.set_ylabel('Principal Component 2')\n",
    "ax.set_zlabel('Principal Component 3')\n",
    "print('\\n')"
   ]
  },
  {
   "cell_type": "code",
   "execution_count": 36,
   "metadata": {},
   "outputs": [
    {
     "name": "stdout",
     "output_type": "stream",
     "text": [
      "\n",
      "\n"
     ]
    },
    {
     "data": {
      "image/png": "[encoded data removed]",
      "text/plain": [
       "<Figure size 432x288 with 1 Axes>"
      ]
     },
     "metadata": {
      "needs_background": "light"
     },
     "output_type": "display_data"
    }
   ],
   "source": [
    "plt.scatter(scores_3.iloc[:][0], scores_3.iloc[:][1],c='red')\n",
    "plt.xlabel('Principal Component 1', fontsize = 15)\n",
    "plt.ylabel('Principal Component 2', fontsize = 15)\n",
    "plt.title('2 component PCA', fontsize = 20)\n",
    "print('\\n')"
   ]
  },
  {
   "cell_type": "code",
   "execution_count": 37,
   "metadata": {},
   "outputs": [
    {
     "name": "stdout",
     "output_type": "stream",
     "text": [
      "PCA on 10 best case predictions on TEST, on 3 principal components\n"
     ]
    },
    {
     "data": {
      "text/html": [
       "<div>\n",
       "<style scoped>\n",
       "    .dataframe tbody tr th:only-of-type {\n",
       "        vertical-align: middle;\n",
       "    }\n",
       "\n",
       "    .dataframe tbody tr th {\n",
       "        vertical-align: top;\n",
       "    }\n",
       "\n",
       "    .dataframe thead th {\n",
       "        text-align: right;\n",
       "    }\n",
       "</style>\n",
       "<table border=\"1\" class=\"dataframe\">\n",
       "  <thead>\n",
       "    <tr style=\"text-align: right;\">\n",
       "      <th></th>\n",
       "      <th>0</th>\n",
       "      <th>1</th>\n",
       "      <th>2</th>\n",
       "    </tr>\n",
       "  </thead>\n",
       "  <tbody>\n",
       "    <tr>\n",
       "      <th>8/29/2018</th>\n",
       "      <td>-188.53</td>\n",
       "      <td>-132.88</td>\n",
       "      <td>30.00</td>\n",
       "    </tr>\n",
       "    <tr>\n",
       "      <th>6/5/2015</th>\n",
       "      <td>-149.67</td>\n",
       "      <td>-144.48</td>\n",
       "      <td>31.03</td>\n",
       "    </tr>\n",
       "    <tr>\n",
       "      <th>12/29/2017</th>\n",
       "      <td>-172.92</td>\n",
       "      <td>-131.83</td>\n",
       "      <td>38.35</td>\n",
       "    </tr>\n",
       "    <tr>\n",
       "      <th>2/27/2015</th>\n",
       "      <td>-152.91</td>\n",
       "      <td>-145.84</td>\n",
       "      <td>33.30</td>\n",
       "    </tr>\n",
       "    <tr>\n",
       "      <th>2/26/2019</th>\n",
       "      <td>-189.80</td>\n",
       "      <td>-117.69</td>\n",
       "      <td>20.98</td>\n",
       "    </tr>\n",
       "    <tr>\n",
       "      <th>9/12/2018</th>\n",
       "      <td>-187.22</td>\n",
       "      <td>-132.09</td>\n",
       "      <td>26.56</td>\n",
       "    </tr>\n",
       "    <tr>\n",
       "      <th>1/13/2015</th>\n",
       "      <td>-144.65</td>\n",
       "      <td>-140.10</td>\n",
       "      <td>32.26</td>\n",
       "    </tr>\n",
       "    <tr>\n",
       "      <th>12/27/2017</th>\n",
       "      <td>-173.04</td>\n",
       "      <td>-132.24</td>\n",
       "      <td>38.63</td>\n",
       "    </tr>\n",
       "    <tr>\n",
       "      <th>12/15/2017</th>\n",
       "      <td>-166.54</td>\n",
       "      <td>-127.39</td>\n",
       "      <td>36.19</td>\n",
       "    </tr>\n",
       "    <tr>\n",
       "      <th>9/22/2015</th>\n",
       "      <td>-110.98</td>\n",
       "      <td>-119.39</td>\n",
       "      <td>28.97</td>\n",
       "    </tr>\n",
       "  </tbody>\n",
       "</table>\n",
       "</div>"
      ],
      "text/plain": [
       "                 0       1      2\n",
       "8/29/2018  -188.53 -132.88  30.00\n",
       "6/5/2015   -149.67 -144.48  31.03\n",
       "12/29/2017 -172.92 -131.83  38.35\n",
       "2/27/2015  -152.91 -145.84  33.30\n",
       "2/26/2019  -189.80 -117.69  20.98\n",
       "9/12/2018  -187.22 -132.09  26.56\n",
       "1/13/2015  -144.65 -140.10  32.26\n",
       "12/27/2017 -173.04 -132.24  38.63\n",
       "12/15/2017 -166.54 -127.39  36.19\n",
       "9/22/2015  -110.98 -119.39  28.97"
      ]
     },
     "execution_count": 37,
     "metadata": {},
     "output_type": "execute_result"
    }
   ],
   "source": [
    "u=index_sort[:10]\n",
    "u=u.tolist()\n",
    "\n",
    "cases_best10=pd.concat((X_test.iloc[u[0]],X_test.iloc[u[1]],X_test.iloc[u[2]],X_test.iloc[u[3]],X_test.iloc[u[4]],\n",
    "                    X_test.iloc[u[5]],X_test.iloc[u[6]],X_test.iloc[u[7]],X_test.iloc[u[8]],X_test.iloc[u[9]]),axis=1)\n",
    "cases_best10=pd.DataFrame(cases_best10.T)\n",
    "cases_best10=cases_best10.drop('Dummy',axis=1)\n",
    "cases_best10\n",
    "scoresb_3=cases_best10.dot(eigvec_1[:,:3])\n",
    "print('PCA on 10 best case predictions on TEST, on 3 principal components')\n",
    "round((scoresb_3),2)"
   ]
  },
  {
   "cell_type": "code",
   "execution_count": 38,
   "metadata": {},
   "outputs": [
    {
     "name": "stdout",
     "output_type": "stream",
     "text": [
      "Blue is for best cases, Red is for worst cases\n"
     ]
    },
    {
     "data": {
      "image/png": "[encoded data removed]",
      "text/plain": [
       "<Figure size 864x576 with 1 Axes>"
      ]
     },
     "metadata": {
      "needs_background": "light"
     },
     "output_type": "display_data"
    }
   ],
   "source": [
    "fig = plt.figure(figsize=(12,8))\n",
    "\n",
    "ax = plt.axes(projection='3d')\n",
    "ax.scatter(scores_3.iloc[:][0], scores_3.iloc[:][1], scores_3.iloc[:][2], zdir='z', s=20, c='red', depthshade=True)\n",
    "ax.scatter(scoresb_3.iloc[:][0], scoresb_3.iloc[:][1], scoresb_3.iloc[:][2], zdir='z', s=20, c='blue', depthshade=True)\n",
    "ax.set_xlabel('Principal Component 1')\n",
    "ax.set_ylabel('Principal Component 2')\n",
    "ax.set_zlabel('Principal Component 3')\n",
    "print('Blue is for best cases, Red is for worst cases')"
   ]
  },
  {
   "cell_type": "code",
   "execution_count": 39,
   "metadata": {},
   "outputs": [
    {
     "name": "stdout",
     "output_type": "stream",
     "text": [
      "Blue is for best cases, Red is for worst cases\n"
     ]
    },
    {
     "data": {
      "image/png": "[encoded data removed]",
      "text/plain": [
       "<Figure size 432x288 with 1 Axes>"
      ]
     },
     "metadata": {
      "needs_background": "light"
     },
     "output_type": "display_data"
    }
   ],
   "source": [
    "plt.scatter(scores_3.iloc[:][0], scores_3.iloc[:][1],c='red')\n",
    "plt.scatter(scoresb_3.iloc[:][0], scoresb_3.iloc[:][1],c='blue')\n",
    "plt.xlabel('Principal Component 1', fontsize = 15)\n",
    "plt.ylabel('Principal Component 2', fontsize = 15)\n",
    "plt.title('2 component PCA', fontsize = 20)\n",
    "print('Blue is for best cases, Red is for worst cases')"
   ]
  },
  {
   "cell_type": "markdown",
   "metadata": {},
   "source": [
    "In comparing the 10 best cases and 10 worst cases, we can see from the 3D plot that the best cases drift more towards the extremes, which show higher correlation in data along principal components 1, 2 and 3. The 10 worst cases however are further apart and away from the extremes, hence do not correlate well, and this shows their variability is not as strong along the 3 principal components. Looking in the 2D plots, we see more clearly how the 10 best and 10 worst are spread in the direction of the 2 principal components."
   ]
  },
  {
   "cell_type": "markdown",
   "metadata": {},
   "source": [
    "# Question 4 : Analysis of the best predicting formula pred(x)"
   ]
  },
  {
   "cell_type": "code",
   "execution_count": 40,
   "metadata": {},
   "outputs": [
    {
     "name": "stdout",
     "output_type": "stream",
     "text": [
      "\n",
      "\n"
     ]
    },
    {
     "data": {
      "image/png": "[encoded data removed]",
      "text/plain": [
       "<Figure size 432x288 with 1 Axes>"
      ]
     },
     "metadata": {
      "needs_background": "light"
     },
     "output_type": "display_data"
    }
   ],
   "source": [
    "G = distance_matrix(X_train,X_train)\n",
    "G = pd.DataFrame(np.exp(-gamma2*(G**2)))\n",
    "eigval, eigvec=LA.eig(G)\n",
    "Id=np.identity(len(G))\n",
    "λId=λ2*Id\n",
    "M = G + λId\n",
    "M_inv=pd.DataFrame(LA.inv(M))\n",
    "A=M_inv@y_tr \n",
    "Bj = abs(A).sort_values()[::-1]\n",
    "j=list(range(len(Bj)))\n",
    "plt.scatter(j,Bj,s=5,c='blue')\n",
    "plt.ylabel('Bj')\n",
    "plt.xlabel('j')\n",
    "plt.title('plot of Bj vs j')\n",
    "print('\\n')"
   ]
  },
  {
   "cell_type": "code",
   "execution_count": 41,
   "metadata": {},
   "outputs": [
    {
     "name": "stdout",
     "output_type": "stream",
     "text": [
      "Threshold value: 0.325\n"
     ]
    },
    {
     "data": {
      "image/png": "[encoded data removed]",
      "text/plain": [
       "<Figure size 432x288 with 1 Axes>"
      ]
     },
     "metadata": {
      "needs_background": "light"
     },
     "output_type": "display_data"
    }
   ],
   "source": [
    "y=pd.DataFrame(Bj).cumsum()\n",
    "RATBj=y/sum(Bj)\n",
    "plt.scatter(j,RATBj,c='blue',s=5)\n",
    "plt.ylabel('RATBj')\n",
    "plt.xlabel('j')\n",
    "plt.title('increasing curve of RATBj')\n",
    "\n",
    "\n",
    "m=RATBj[RATBj>0.99]\n",
    "m=m.dropna()\n",
    "b=m.index.tolist()\n",
    "THR=round((Bj[b[0]]),3)\n",
    "print('Threshold value:', THR)"
   ]
  },
  {
   "cell_type": "code",
   "execution_count": 42,
   "metadata": {},
   "outputs": [
    {
     "name": "stdout",
     "output_type": "stream",
     "text": [
      "\n",
      " Ratio of RMSE for train: 0.091\n",
      "\n",
      " Ratio of RMSE for test: 0.095\n"
     ]
    }
   ],
   "source": [
    "AA=[]\n",
    "for i in range(len(A)):\n",
    "    if abs(A[i])>THR:\n",
    "        AA.append(round((A[i]),3))\n",
    "    else:\n",
    "        AA.append(0)\n",
    "AA=pd.Series(AA)\n",
    "\n",
    "def PRED(x):\n",
    "    return AA.T@V_x.T\n",
    "predtr_x=[]\n",
    "for k in range(len(X_train)):\n",
    "    x=pd.DataFrame(X_train.iloc[k].tolist()).T\n",
    "    V_x = distance_matrix(x,X_train)\n",
    "    V_x = pd.DataFrame(np.exp(-gamma2*(V_x**2)))\n",
    "    predtr_x.append(PRED(x))\n",
    "pred_x_tr=pd.DataFrame(predtr_x)\n",
    "\n",
    "predte_x=[]\n",
    "for g in range(len(X_test)):\n",
    "    x=pd.DataFrame(X_test.iloc[g].tolist()).T\n",
    "    V_x = distance_matrix(x,X_train)\n",
    "    V_x = pd.DataFrame(np.exp(-gamma2*(V_x**2)))\n",
    "    predte_x.append(PRED(x))\n",
    "pred_x_te=pd.DataFrame(predte_x)\n",
    "\n",
    "MSEtrain=mean_squared_error(pred_x_tr, y_train)\n",
    "RMSEtrain=round((np.sqrt(MSEtrain)),3)\n",
    "rat_tr=(round((RMSEtrain/avy_tr[0]),3))\n",
    "\n",
    "MSEtest=mean_squared_error(pred_x_te, y_test)\n",
    "RMSEtest=round((np.sqrt(MSEtest)),3)\n",
    "rat_te=(round((RMSEtest/avy_te[0]),3))\n",
    "    \n",
    "print('\\n','Ratio of RMSE for train:',rat_tr)\n",
    "print('\\n','Ratio of RMSE for test:',rat_te)"
   ]
  },
  {
   "cell_type": "markdown",
   "metadata": {},
   "source": [
    "AA here aims to shorten the equation for the pred(x) by keeping only Ai values that pass the 99% threshold. The RMSE ratios produced using a 99% explained variation are slightly higher than in question 3. Hence the best predicting formula utilizes A instead of AA, where we keep all the values got using a 95% threshold for explained variation, producing the full equation, as opposed to dropping Ai values that don't meet the 99% threshold and using the shorter equation."
   ]
  },
  {
   "cell_type": "markdown",
   "metadata": {},
   "source": [
    "# Question 5 (optional): Implement KRR using a pre existing function"
   ]
  },
  {
   "cell_type": "code",
   "execution_count": 43,
   "metadata": {},
   "outputs": [
    {
     "name": "stdout",
     "output_type": "stream",
     "text": [
      "\n",
      " Ratio of RMSE for train: 0.068\n",
      "\n",
      " Ratio of RMSE for test: 0.069\n"
     ]
    }
   ],
   "source": [
    "#selecting the kernel\n",
    "KRR= KernelRidge(kernel ='rbf',alpha=1, gamma=gamma2)\n",
    "KRR.fit(X_train, y_train)\n",
    "predict_tr=KRR.predict(X_train)\n",
    "predict_te=KRR.predict(X_test)\n",
    "\n",
    "MSEtrain=mean_squared_error(predict_tr, y_train)\n",
    "RMSEtrain=round((np.sqrt(MSEtrain)),3)\n",
    "RAT_tr=(round((RMSEtrain/avy_tr[0]),3))\n",
    "\n",
    "MSEtest=mean_squared_error(predict_te, y_test)\n",
    "RMSEtest=round((np.sqrt(MSEtest)),3)\n",
    "RAT_te=(round((RMSEtest/avy_te[0]),3))\n",
    "    \n",
    "print('\\n','Ratio of RMSE for train:',RAT_tr)\n",
    "print('\\n','Ratio of RMSE for test:',RAT_te)"
   ]
  },
  {
   "cell_type": "markdown",
   "metadata": {},
   "source": [
    "The pre-existing inbuilt KRR function produces lower average error than our by-hand technique. This is probably because it has better tuning parameters. If need be, maybe further tuning on other parameters in our calculations could yield better results."
   ]
  }
 ],
 "metadata": {
  "kernelspec": {
   "display_name": "Python 3",
   "language": "python",
   "name": "python3"
  },
  "language_info": {
   "codemirror_mode": {
    "name": "ipython",
    "version": 3
   },
   "file_extension": ".py",
   "mimetype": "text/x-python",
   "name": "python",
   "nbconvert_exporter": "python",
   "pygments_lexer": "ipython3",
   "version": "3.7.4"
  }
 },
 "nbformat": 4,
 "nbformat_minor": 2
}
