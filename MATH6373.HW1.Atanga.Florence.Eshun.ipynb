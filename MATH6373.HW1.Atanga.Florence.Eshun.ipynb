{
 "cells": [
  {
   "cell_type": "markdown",
   "execution_count": 1,
   "metadata": {},
   "outputs": [],
   "source": [
    "## Cynthia Atanga\n",
    "## Bryan Florence\n",
    "## Jasmine Eshun"
   "metadata": {},
   "source": [
    "## MATH6373 Homework 1, Part 2\n",
  },
  {
   "cell_type": "code",
   ]
    "#importing libraries\n",
    "import numpy as np\n",
    "import pandas as pd\n",
    "import random as rm\n",
    "import math\n",
    "import matplotlib.pyplot as plt\n",
    "import seaborn as sns\n",
    "from numpy import exp, array, random, dot\n",
    "import array\n",
    "from sklearn.metrics import mean_squared_error as MSE\n"
   ]
  },
  {
   "cell_type": "markdown",
   "metadata": {},
   "source": [
    "## Step 1"
   ]
  },
  {
   "cell_type": "markdown",
   "metadata": {},
   "source": [
    "The five random numbers are selcted below and will be used to get the train and test ouputs."
   ]
  },
  {
   "cell_type": "code",
   "execution_count": 3,
   "metadata": {},
   "outputs": [
    {
     "name": "stdout",
     "output_type": "stream",
     "text": [
      "a_0 : -0.73 \n",
      "\n",
      "a_1 : 0.69 \n",
      "\n",
      "b_1 : 0.53 \n",
      "\n",
      "a_2 : -0.24 \n",
      "\n",
      "b_2 : -0.0 \n",
      "\n"
     ]
    }
   ],
   "source": [
    "rm.seed(1)\n",
    "a_0 = rm.uniform(-1,1)\n",
    "a_1 = rm.uniform(-1,1)\n",
    "b_1 = rm.uniform(-1,1)\n",
    "a_2 = rm.uniform(-0.5,0.5)\n",
    "b_2 = rm.uniform(-0.5,0.5)\n",
    "\n",
    "constants=('a_0','a_1','b_1','a_2','b_2')\n",
    "values=list((a_0,a_1,b_1,a_2,b_2))\n",
    "for i in range(len(values)):\n",
    "    print(constants[i],':',round(values[i],2),'\\n')"
   ]
  },
  {
   "cell_type": "markdown",
   "metadata": {},
   "source": [
    "## Define a function F(x) and plot F(x) vs x in [0,1]"
   ]
  },
  {
   "cell_type": "code",
   "execution_count": 4,
   "metadata": {},
   "outputs": [],
   "source": [
    "def F_x(x):\n",
    "    return a_0 + a_1*math.cos(x) + b_1*math.sin(x) + a_2*math.cos(2*x) + b_2*math.sin(2*x)\n"
   ]
  },
  {
   "cell_type": "code",
   "execution_count": 5,
   "metadata": {
    "scrolled": true
   },
   "outputs": [
    {
     "data": {
      "text/plain": [
       "Text(0, 0.5, 'F(x)')"
      ]
     },
     "execution_count": 5,
     "metadata": {},
     "output_type": "execute_result"
    },
    {
     "data": {
      "image/png": "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\n",
      "text/plain": [
       "<Figure size 432x288 with 1 Axes>"
      ]
     },
     "metadata": {
      "needs_background": "light"
     },
     "output_type": "display_data"
    }
   ],
   "source": [
    "x=[]\n",
    "y=[]\n",
    "rm.seed(1)\n",
    "for i in np.arange(500):\n",
    "    a=rm.uniform(0,1)\n",
    "    x.append(a)\n",
    "    y.append(F_x(a))\n",
    "plt.plot(x,y)\n",
    "plt.xlabel('x')\n",
    "plt.ylabel('F(x)')"
   ]
  },
  {
   "cell_type": "markdown",
   "metadata": {},
   "source": [
    "The plot of F(x) vs x is almost completely linear."
   ]
  },
  {
   "cell_type": "markdown",
   "metadata": {},
   "source": [
    "## Step 2\n",
    "## Simulating the train set, train outputs, test set and test outputs. The train set and test set are random numbers in the interval [0,1]."
   ]
  },
  {
   "cell_type": "code",
   "execution_count": 6,
   "metadata": {},
   "outputs": [],
   "source": [
    "#simulating train set of N =1000 inputs randomly selected in the interval [0,1]\n",
    "rm.seed(1)\n",
    "TRAIN_SET = np.random.random(1000)\n",
    "TRAIN_OUTPUTS=[]\n",
    "for i in TRAIN_SET:\n",
    "    TRAIN_OUTPUTS.append(F_x(i))\n",
    "rm.seed(1)\n",
    "TEST_SET = np.random.random(500)\n",
    "TEST_OUTPUTS=[]\n",
    "for i in TEST_SET:\n",
    "    TEST_OUTPUTS.append(F_x(i))"
   ]
  },
  {
   "cell_type": "code",
   "execution_count": 7,
   "metadata": {},
   "outputs": [
    {
     "name": "stdout",
     "output_type": "stream",
     "text": [
      "The first 20 values in the training set: \n",
      "\n",
      "[0.96, 0.26, 0.62, 0.5, 0.98, 0.84, 0.46, 0.48, 0.96, 0.11, 0.19, 0.99, 0.86, 0.78, 0.34, 0.94, 0.9, 0.73, 0.56, 0.58]\n"
     ]
    }
   ],
   "source": [
    "print('The first 20 values in the training set:','\\n')\n",
    "print([round(x,2) for x in list(TRAIN_SET[:20])])"
   ]
  },
  {
   "cell_type": "code",
   "execution_count": 8,
   "metadata": {},
   "outputs": [
    {
     "name": "stdout",
     "output_type": "stream",
     "text": [
      "The first 20 values of the training outputs: \n",
      "\n",
      "[0.18, -0.14, 0.06, -0.0, 0.18, 0.15, -0.02, -0.02, 0.18, -0.22, -0.18, 0.18, 0.15, 0.13, -0.1, 0.17, 0.16, 0.11, 0.03, 0.03]\n"
     ]
    }
   ],
   "source": [
    "print('The first 20 values of the training outputs:','\\n')\n",
    "print([round(x,2) for x in list(TRAIN_OUTPUTS[:20])])"
   ]
  },
  {
   "cell_type": "code",
   "execution_count": 9,
   "metadata": {},
   "outputs": [
    {
     "name": "stdout",
     "output_type": "stream",
     "text": [
      "The first 20 values in the test set: \n",
      "\n",
      "[0.75, 0.63, 0.83, 0.94, 0.6, 0.82, 0.02, 0.25, 0.39, 0.33, 0.13, 0.03, 0.85, 0.38, 0.18, 0.97, 0.54, 0.29, 0.06, 0.6]\n"
     ]
    }
   ],
   "source": [
    "print('The first 20 values in the test set:','\\n')\n",
    "print([round(x,2) for x in list(TEST_SET[:20])])"
   ]
  },
  {
   "cell_type": "code",
   "execution_count": 10,
   "metadata": {},
   "outputs": [
    {
     "name": "stdout",
     "output_type": "stream",
     "text": [
      "The first 20 values of the test outputs: \n",
      "\n",
      "[0.12, 0.06, 0.15, 0.17, 0.05, 0.14, -0.27, -0.14, -0.07, -0.1, -0.21, -0.26, 0.15, -0.07, -0.18, 0.18, 0.02, -0.12, -0.25, 0.05]\n"
     ]
    }
   ],
   "source": [
    "print('The first 20 values of the test outputs:','\\n')\n",
    "print([round(x,2) for x in list(TEST_OUTPUTS[:20])])"
   ]
  },
  {
   "cell_type": "markdown",
   "metadata": {},
   "source": [
    "## We will now attempt to define an MLP which consists of 4 layers and 30 neurons"
   ]
  },
  {
   "cell_type": "markdown",
   "metadata": {},
   "source": [
    "## Step 3\n"
   ]
  },
  {
   "cell_type": "markdown",
   "metadata": {},
   "source": [
    "## Define the response function g(v) for Layer 2\n",
    "\n",
    "Layer 2 has 2 groups of 9 neurons Z=[Z1, ..., Z9] and U=[U1, ..., U9]. We will primarily define the v = wij*x + bi, where wij are the weights for the link between layer 2 and layer 1. x is the input in layer 1, and bi is the threshold to account for bias. Then we will define g(v) which converts the v outputs to 0 or 1 to create the binary neurons. "
   ]
  },
  {
   "cell_type": "code",
   "execution_count": 11,
   "metadata": {},
   "outputs": [],
   "source": [
    "#defining the parameters wij (weights), bi (thresholds) between L1 and L2\n",
    "w12_z=[1]*9\n",
    "w12_u=[-1]*9\n",
    "_b=np.arange(10)[1:]\n",
    "b1=[-x/10 for x in _b]\n",
    "b2=[x/10 for x in _b]\n",
    "\n",
    "\n",
    "#define v = wij*x + bi\n",
    "def v(w,x,b):\n",
    "    v=np.dot(w,x)+b\n",
    "    return v\n",
    "\n",
    "#define g(v)\n",
    "def g(v,neuron):\n",
    "    for i in v:\n",
    "        if i>0:\n",
    "            neuron.append(1)\n",
    "        elif i<=0:\n",
    "            neuron.append(0)\n",
    "    return neuron\n",
    "\n",
    "#define layer 2\n",
    "def layer2(x):\n",
    "    Z=[]\n",
    "    U=[]\n",
    "    Z=g(v(w12_z,x,b1),Z)\n",
    "    U=g(v(w12_u,x,b2),U)\n",
    "    L2=Z+U\n",
    "    return Z,U\n",
    "\n"
   ]
  },
  {
   "cell_type": "markdown",
   "metadata": {},
   "source": [
    "## Define the response function for Layer 3\n",
    "As computed for layer 2, we will compute the vector v for layer 3, and then the function g(v) that converts the neurons to binary neurons stored in S. S is a vector which contains 10 neurons. "
   ]
  },
  {
   "cell_type": "code",
   "execution_count": 12,
   "metadata": {},
   "outputs": [],
   "source": [
    "#define the weights wij and bi between L2 and L3\n",
    "w23=np.ones(10)\n",
    "b3=[-1/2,-3/2,-3/2,-3/2,-3/2,-3/2,-3/2,-3/2,-3/2,-1/2]\n",
    "\n",
    "#define layer 3\n",
    "def layer3(L2):\n",
    "    \n",
    "    #computing s for binary states\n",
    "    s=[]\n",
    "    s1=[]\n",
    "    s10=[]\n",
    "    s1=g(v(w23[:1],L2[1][0],b3[0]),s1)\n",
    "    sk=np.array(L2[0][:8])+np.array(L2[1][1:])+np.array(b3[1:9])\n",
    "    s10=g(v(w23[-1:],L2[0][8],b3[-1:]),s10)\n",
    "    s.extend(s1)\n",
    "    s.extend(sk)\n",
    "    s.extend(s10)\n",
    "    \n",
    "    #computing S binary states frim g(v)\n",
    "    S=[]\n",
    "    L3=g(s,S)\n",
    "    return S\n",
    "\n"
   ]
  },
  {
   "cell_type": "markdown",
   "metadata": {},
   "source": [
    "## Describe precisely how layers L2 and L3 should respond to any given input x in a given interval such as 3/10 ≤ x <4/10 or such as 6/10 ≤ x <7/10\n",
    "\n",
    "For a given input passed on to layer 3, x which is between 3/10 and 4/10, it passes through layer 2 where it is multiplied by weights wij in Z and U, with added threshold bi. The weights are vectors of 1's which are negative in Z and positive in U. The thresholds are defined by +/- n/10 for n in range 1 to 10. The Z group takes on +ve thresholds and the U has -ve thresholds. If the x value falls between 0.3 and 0.4, then based on the formula v= wij*x + bi, its v vector will produce positve results for the first 3 outputs which will be converted to binary values of 1 and the remaining six, 0, in group Z. In group U, the first three outputs will be negative and will be converted to binary values, 0, while the remaining 6 will be positive and converted to 1's.\n",
    "\n",
    "The outputs Z and U will be sent to layer 3, where its linear combination with the weights and thresholds in layer 3 will produce a single vector, S of size 10 x 1. This vector will contain a single value of 1  on the position that 'lights up', and nine 0's on the remainder. The position in this case is the upper bound of the interval 3 and 4. In this case, position 4 which is denoted as the state of s4. This is the same result with a value of x between 6/10 and 7/10. The state s7 will have the value of 1 and the rest 0's."
   ]
  },
  {
   "cell_type": "code",
   "execution_count": 13,
   "metadata": {},
   "outputs": [
    {
     "name": "stdout",
     "output_type": "stream",
     "text": [
      "This is a sample output for layer 2 when x = 0.32 \n",
      " [Z],[U]\n"
     ]
    },
    {
     "data": {
      "text/plain": [
       "([1, 1, 1, 0, 0, 0, 0, 0, 0], [0, 0, 0, 1, 1, 1, 1, 1, 1])"
      ]
     },
     "execution_count": 13,
     "metadata": {},
     "output_type": "execute_result"
    }
   ],
   "source": [
    "print('This is a sample output for layer 2 when x = 0.32','\\n','[Z],[U]')\n",
    "layer2(0.32)"
   ]
  },
  {
   "cell_type": "code",
   "execution_count": 14,
   "metadata": {},
   "outputs": [
    {
     "name": "stdout",
     "output_type": "stream",
     "text": [
      "This is a sample output for layer 3 when x = 0.32 \n",
      " [S]\n"
     ]
    },
    {
     "data": {
      "text/plain": [
       "[0, 0, 0, 1, 0, 0, 0, 0, 0, 0]"
      ]
     },
     "execution_count": 14,
     "metadata": {},
     "output_type": "execute_result"
    }
   ],
   "source": [
    "print('This is a sample output for layer 3 when x = 0.32','\\n','[S]')\n",
    "L3=layer3(layer2(0.32))       \n",
    "L3"
   ]
  },
  {
   "cell_type": "markdown",
   "metadata": {},
   "source": [
    "## Step 4\n",
    "## Determine the weights between layer 3 and layer 4\n",
    "The weights of the output neuron will be learned from the training set. \n"
   ]
  },
  {
   "cell_type": "code",
   "execution_count": 15,
   "metadata": {},
   "outputs": [
    {
     "name": "stdout",
     "output_type": "stream",
     "text": [
      "The calculated weights for the link between layer 4 and layer 3: \n",
      "\n",
      "[-0.26, -0.2, -0.14, -0.09, -0.03, 0.02, 0.07, 0.11, 0.15, 0.18]\n"
     ]
    }
   ],
   "source": [
    "#define weights for layer 5\n",
    "mi=[]\n",
    "for i in range(10):\n",
    "    y_j=[]\n",
    "    ki=[]\n",
    "    for x in TRAIN_SET:\n",
    "        L3=[]\n",
    "        L3=layer3(layer2(x))\n",
    "        ki.append(L3[i])\n",
    "    for j in range(len(ki)):\n",
    "        if ki[j]==1:\n",
    "            y_j.append(TRAIN_OUTPUTS[j])\n",
    "    mi.append(np.mean(y_j))\n",
    "\n",
    "print('The calculated weights for the link between layer 4 and layer 3:','\\n')\n",
    "print([round(x,2) for x in mi])"
   ]
  },
  {
   "cell_type": "markdown",
   "metadata": {},
   "source": [
    "## Step 5\n",
    "## Determine the MLP output G(x)=r(x) defined by the linear formula r = m1s1 + m2s2 + ... + m10s10 that computes the numerical output in layer 4"
   ]
  },
  {
   "cell_type": "code",
   "execution_count": 16,
   "metadata": {},
   "outputs": [
    {
     "name": "stdout",
     "output_type": "stream",
     "text": [
      "This is a sample output for layer 4 when x = 0.32\n"
     ]
    },
    {
     "data": {
      "text/plain": [
       "-0.0864"
      ]
     },
     "execution_count": 16,
     "metadata": {},
     "output_type": "execute_result"
    }
   ],
   "source": [
    "#defining G(x)=r(x)\n",
    "def G(x):\n",
    "    r=np.dot(mi,layer3(layer2(x)))\n",
    "    return r\n",
    "print('This is a sample output for layer 4 when x = 0.32')\n",
    "round(G(0.32),4)"
   ]
  },
  {
   "cell_type": "markdown",
   "metadata": {},
   "source": [
    "## Compute the plot of G(x) vs x for x=[0,0.01,0.02, ... ,0.99,1]. On the same graph, plot F(x)"
   ]
  },
  {
   "cell_type": "code",
   "execution_count": 17,
   "metadata": {},
   "outputs": [
    {
     "data": {
      "text/plain": [
       "<matplotlib.legend.Legend at 0x22c61e8b748>"
      ]
     },
     "execution_count": 17,
     "metadata": {},
     "output_type": "execute_result"
    },
    {
     "data": {
      "image/png": "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\n",
      "text/plain": [
       "<Figure size 432x288 with 1 Axes>"
      ]
     },
     "metadata": {
      "needs_background": "light"
     },
     "output_type": "display_data"
    }
   ],
   "source": [
    "#creating plot of G(x) and test values x\n",
    "test=np.arange(0.0,1.0,0.01)\n",
    "\n",
    "#calculating the outputs using both functions G(x) and F(x)\n",
    "y_G=[]\n",
    "y_F=[]\n",
    "for i in test:\n",
    "    y_G.append(G(i))\n",
    "    y_F.append(F_x(i))\n",
    "\n",
    "#plotting the outputs vs inputs\n",
    "plt.plot(test,y_G,label='y_G')\n",
    "plt.plot(test,y_F,label='y_F')\n",
    "plt.xlabel('x')\n",
    "plt.legend(loc=\"upper left\")"
   ]
  },
  {
   "cell_type": "markdown",
   "metadata": {},
   "source": [
    "From the above graph we can see that our MLP does a descent job in mimicking the outputs of the training set for each input value. The graph is an overall ascending graph which wraps along the curve of the taining outputs. The deviations on this graph stem from the fact that numbers that have one decimal, such as (0.1,0.2,0.3,etc.) are not properly classified as they produce an S vector of 0. This could be something that can be corrected in further implementation of MLP layers.Other than that, the MLP does a great job overall."
   ]
  },
  {
   "cell_type": "markdown",
   "metadata": {},
   "source": [
    "## Step 7\n",
    "## Compute the predictions G(x1)...G(xN) generated by the MLP on the training set"
   ]
  },
  {
   "cell_type": "code",
   "execution_count": 18,
   "metadata": {},
   "outputs": [
    {
     "data": {
      "text/plain": [
       "<matplotlib.legend.Legend at 0x22c61f12d88>"
      ]
     },
     "execution_count": 18,
     "metadata": {},
     "output_type": "execute_result"
    },
    {
     "data": {
      "image/png": "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\n",
      "text/plain": [
       "<Figure size 432x288 with 1 Axes>"
      ]
     },
     "metadata": {
      "needs_background": "light"
     },
     "output_type": "display_data"
    }
   ],
   "source": [
    "#generating the predicted values yj for train set\n",
    "G_xj=[]\n",
    "for i in TRAIN_SET:\n",
    "    G_xj.append(G(i))\n",
    "\n",
    "#below is the graph of the predicted ytrain values and actual ytrain values vs train inputs\n",
    "plt.plot(TRAIN_SET,G_xj,label='predicted outputs')\n",
    "plt.plot(TRAIN_SET,TRAIN_OUTPUTS,label='train outputs')\n",
    "plt.xlabel('train values')\n",
    "plt.legend(loc=\"upper left\")"
   ]
  },
  {
   "cell_type": "markdown",
   "metadata": {},
   "source": [
    "## Compute the prediction errors | yj - G(xj) | and the mean squared error MSEtrain on the training set"
   ]
  },
  {
   "cell_type": "code",
   "execution_count": 19,
   "metadata": {},
   "outputs": [
    {
     "name": "stdout",
     "output_type": "stream",
     "text": [
      "Mean squeared error on the train predictions: \n",
      " 0.000179\n"
     ]
    }
   ],
   "source": [
    "#computing mean squared error\n",
    "MSEtrain=MSE(TRAIN_OUTPUTS,G_xj)\n",
    "print('Mean squeared error on the train predictions:','\\n',round(MSEtrain,6))"
   ]
  },
  {
   "cell_type": "markdown",
   "metadata": {},
   "source": [
    "The graph of the predicted train outputs vs true outpus are both ascending curves and as can be seen, are almost the same graph with slight deviations on the predicted outputs curve. Our mean squared error is very little, 0.000179, which means that our MSE does an overall great job in predicting the training outputs. We can now use this MLP for our test set."
   ]
  },
  {
   "cell_type": "markdown",
   "metadata": {},
   "source": [
    "## Compute the predictions G(x1)...G(xN) generated by the MLP on the test set"
   ]
  },
  {
   "cell_type": "code",
   "execution_count": 20,
   "metadata": {},
   "outputs": [
    {
     "data": {
      "text/plain": [
       "<matplotlib.legend.Legend at 0x22c61f937c8>"
      ]
     },
     "execution_count": 20,
     "metadata": {},
     "output_type": "execute_result"
    },
    {
     "data": {
      "image/png": "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\n",
      "text/plain": [
       "<Figure size 432x288 with 1 Axes>"
      ]
     },
     "metadata": {
      "needs_background": "light"
     },
     "output_type": "display_data"
    }
   ],
   "source": [
    "#generating the predicted values yj for test set\n",
    "G_xj2=[]\n",
    "for i in TEST_SET:\n",
    "    G_xj2.append(G(i))\n",
    "\n",
    "#below is the graph of the predicted ytest values and actual ytest values vs test inputs\n",
    "plt.plot(TEST_SET,G_xj2,label='predicted outputs')\n",
    "plt.plot(TEST_SET,TEST_OUTPUTS,label='test outputs')\n",
    "plt.xlabel('test values')\n",
    "plt.legend(loc=\"upper left\")"
   ]
  },
  {
   "cell_type": "markdown",
   "metadata": {},
   "source": [
    "## Compute the prediction errors | yj - G(xj) | and the mean squared error MSEtest on the test set"
   ]
  },
  {
   "cell_type": "code",
   "execution_count": 21,
   "metadata": {},
   "outputs": [
    {
     "name": "stdout",
     "output_type": "stream",
     "text": [
      "Mean squeared error on the test predictions: \n",
      " 0.000194\n"
     ]
    }
   ],
   "source": [
    "#computing mean squared error\n",
    "MSEtest=MSE(TEST_OUTPUTS,G_xj2)\n",
    "print('Mean squeared error on the test predictions:','\\n',round(MSEtest,6))"
   ]
  },
  {
   "cell_type": "markdown",
   "metadata": {},
   "source": [
    "From the curve above, we see that the MLP also does a great job in predicting the values of the test set. The predicted outputs curve very well mimicks the test outputs curve with slight deviations. Our mean squared error again is very small, 0.000194. This shows that we can trust out MLP to accurately predict new cases. \n"
   ]
  },
  {
   "cell_type": "markdown",
   "metadata": {},
   "source": [
    "The MSE of the test is slightly bigger than the train by a factor of 0.000015. This is because the MLP is a model trained with the training set, which means that it is already used to the training values and can make better predictions on it. However, the test set is new data that the MLP has not seen and has more room for errors. Nevertheless, because our MLP design is great, its ability to make predictions with little error is high. This explains why both MSE values are pretty close."
   ]
  }
 ],
 "metadata": {
  "kernelspec": {
   "display_name": "Python 3",
   "language": "python",
   "name": "python3"
  },
  "language_info": {
   "codemirror_mode": {
    "name": "ipython",
    "version": 3
   },
   "file_extension": ".py",
   "mimetype": "text/x-python",
   "name": "python",
   "nbconvert_exporter": "python",
   "pygments_lexer": "ipython3",
   "version": "3.7.4"
  }
 },
 "nbformat": 4,
 "nbformat_minor": 2
}
